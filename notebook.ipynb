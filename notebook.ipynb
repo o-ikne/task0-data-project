{
 "cells": [
  {
   "cell_type": "markdown",
   "id": "45f41fdc-8c69-4448-9ad8-04c1874e1725",
   "metadata": {},
   "source": [
    "---\n",
    "### **<p style=\"text-align: center; text-decoration: underline;\">Natural Language Processing</p>**\n",
    "# **<p style=\"text-align: center;\">Practical: A bit of Morphological Warm up</p>**\n",
    "---\n",
    "\n",
    "> Realized by: *Zakaria Boulkhir* & *Omar Iken*.\n",
    "\n",
    "> Master 2, Data Science, Lille University.\n",
    "\n",
    "---\n",
    "\n",
    "### ■ __Overview__\n",
    "In this notebook, we will see a bit of Morphological Warm up...\n",
    "\n",
    "### ■ **<a name=\"content\">Contents</a>**\n",
    "\n",
    "- [1. Warm Up](#warmup)\n",
    "\n",
    "- [2. Actual Work](#actualWork)\n",
    "\n",
    "### ■ **Libraries**"
   ]
  },
  {
   "cell_type": "code",
   "execution_count": 2,
   "id": "be7a0775-1e53-4c08-bf31-bc8e23cdd395",
   "metadata": {},
   "outputs": [],
   "source": [
    "## numpy to handle arrays & matices\n",
    "import numpy as np\n",
    "\n",
    "## matplotlib & Seaborn to plot figures\n",
    "import matplotlib.pyplot as plt\n",
    "import seaborn as sns\n",
    "\n",
    "## pandas to handle dataframes\n",
    "import pandas as pd\n",
    "from scipy import stats\n",
    "from tqdm import tqdm\n",
    "import codecs\n",
    "import os\n",
    "from utils.utils import *\n",
    "\n",
    "## sklearn dependencies\n",
    "from sklearn.model_selection import train_test_split\n",
    "from sklearn.metrics import mean_absolute_error, mean_absolute_error\n",
    "from sklearn.preprocessing import OneHotEncoder\n",
    "from sklearn.feature_extraction.text import CountVectorizer\n",
    "from sklearn.feature_extraction.text import TfidfTransformer\n",
    "from sklearn.naive_bayes import MultinomialNB\n",
    "from sklearn.ensemble import RandomForestClassifier"
   ]
  },
  {
   "cell_type": "code",
   "execution_count": 3,
   "id": "e89771db-6da9-4372-a65d-c762f0c13f4a",
   "metadata": {},
   "outputs": [],
   "source": [
    "#-----------< Setting >------------#\n",
    "## set plots text font size & style\n",
    "sns.set(font_scale=1.2, style='whitegrid')\n",
    "plt.rcParams['figure.figsize'] = (12, 8)"
   ]
  },
  {
   "cell_type": "markdown",
   "id": "7bfeed2f-02e6-492e-9986-4124a0a62325",
   "metadata": {},
   "source": [
    "### ■ **<a name=\"warmup\">1. Warm Up</a>** [(&#8593;)](#content)\n",
    "The objective of this section is to write down a very simple system that predict morphological attributes. To do so, we will use the data available [here](https://github.com/sigmorphon2020/task0-data). Then, we will pick a language we do not speak, for instance *Swahili (swa)*, and we explore the data.\n",
    "\n",
    "#### **1.1. Exploring data**\n",
    "Let's do a bit of data exploration: count the number of characters, n-grams, etc."
   ]
  },
  {
   "cell_type": "markdown",
   "id": "c247180d-5285-43f1-9bd2-c494090ca683",
   "metadata": {},
   "source": [
    "**Load data**"
   ]
  },
  {
   "cell_type": "code",
   "execution_count": 4,
   "id": "3eef3190-ac67-40a2-9675-c5655e3d613f",
   "metadata": {},
   "outputs": [
    {
     "name": "stdout",
     "output_type": "stream",
     "text": [
      "Number of training samples: 3374\n",
      "Number of testing samples : 910\n"
     ]
    },
    {
     "data": {
      "text/html": [
       "<div>\n",
       "<style scoped>\n",
       "    .dataframe tbody tr th:only-of-type {\n",
       "        vertical-align: middle;\n",
       "    }\n",
       "\n",
       "    .dataframe tbody tr th {\n",
       "        vertical-align: top;\n",
       "    }\n",
       "\n",
       "    .dataframe thead th {\n",
       "        text-align: right;\n",
       "    }\n",
       "</style>\n",
       "<table border=\"1\" class=\"dataframe\">\n",
       "  <thead>\n",
       "    <tr style=\"text-align: right;\">\n",
       "      <th></th>\n",
       "      <th>lemma</th>\n",
       "      <th>form</th>\n",
       "      <th>attributes</th>\n",
       "    </tr>\n",
       "  </thead>\n",
       "  <tbody>\n",
       "    <tr>\n",
       "      <th>0</th>\n",
       "      <td>piga</td>\n",
       "      <td>amepiga</td>\n",
       "      <td>V;PRF;FIN;IND;SG;3;PST</td>\n",
       "    </tr>\n",
       "    <tr>\n",
       "      <th>1</th>\n",
       "      <td>kamilisha</td>\n",
       "      <td>wangekamilisha</td>\n",
       "      <td>V;FIN;COND;PL;3;PRS</td>\n",
       "    </tr>\n",
       "    <tr>\n",
       "      <th>2</th>\n",
       "      <td>fuata</td>\n",
       "      <td>walifuata</td>\n",
       "      <td>V;FIN;IND;PL;3;PST</td>\n",
       "    </tr>\n",
       "    <tr>\n",
       "      <th>3</th>\n",
       "      <td>tengeneza</td>\n",
       "      <td>nitatengeneza</td>\n",
       "      <td>V;FIN;IND;SG;1;FUT</td>\n",
       "    </tr>\n",
       "    <tr>\n",
       "      <th>4</th>\n",
       "      <td>uwa</td>\n",
       "      <td>anauwa</td>\n",
       "      <td>V;DEF;FIN;IND;SG;3;PRS</td>\n",
       "    </tr>\n",
       "  </tbody>\n",
       "</table>\n",
       "</div>"
      ],
      "text/plain": [
       "       lemma            form              attributes\n",
       "0       piga         amepiga  V;PRF;FIN;IND;SG;3;PST\n",
       "1  kamilisha  wangekamilisha     V;FIN;COND;PL;3;PRS\n",
       "2      fuata       walifuata      V;FIN;IND;PL;3;PST\n",
       "3  tengeneza   nitatengeneza      V;FIN;IND;SG;1;FUT\n",
       "4        uwa          anauwa  V;DEF;FIN;IND;SG;3;PRS"
      ]
     },
     "execution_count": 4,
     "metadata": {},
     "output_type": "execute_result"
    }
   ],
   "source": [
    "## file path\n",
    "train_file = 'data/DEVELOPMENT-LANGUAGES/niger-congo/swa.trn'\n",
    "test_file = 'data/GOLD-TEST/swa.tst'\n",
    "\n",
    "## dataframe\n",
    "df_train = read_file(train_file)\n",
    "df_test = read_file(test_file)\n",
    "\n",
    "## number of training & testing samples\n",
    "n_train = df_train.shape[0]\n",
    "n_test = df_test.shape[0]\n",
    "print(f'Number of training samples: {n_train}')\n",
    "print(f'Number of testing samples : {n_test}')\n",
    "\n",
    "## dispaly some samples\n",
    "df_train.head()"
   ]
  },
  {
   "cell_type": "markdown",
   "id": "26278ef5-5e5d-47ef-a130-30c737de290b",
   "metadata": {},
   "source": [
    "**Unzip attributes:** Now, we will extract the individual attributes for each form. For instance, the attributes for *amepiga* are *{V;PRF;FIN;IND;SG;3;PST}*, so unziping means creating a new sample for each of the morphological attributes. "
   ]
  },
  {
   "cell_type": "code",
   "execution_count": 5,
   "id": "e91dee13-b793-4d94-9dc7-0dcc8298fe84",
   "metadata": {},
   "outputs": [
    {
     "data": {
      "text/html": [
       "<div>\n",
       "<style scoped>\n",
       "    .dataframe tbody tr th:only-of-type {\n",
       "        vertical-align: middle;\n",
       "    }\n",
       "\n",
       "    .dataframe tbody tr th {\n",
       "        vertical-align: top;\n",
       "    }\n",
       "\n",
       "    .dataframe thead th {\n",
       "        text-align: right;\n",
       "    }\n",
       "</style>\n",
       "<table border=\"1\" class=\"dataframe\">\n",
       "  <thead>\n",
       "    <tr style=\"text-align: right;\">\n",
       "      <th></th>\n",
       "      <th>lemma</th>\n",
       "      <th>form</th>\n",
       "      <th>attributes</th>\n",
       "    </tr>\n",
       "  </thead>\n",
       "  <tbody>\n",
       "    <tr>\n",
       "      <th>0</th>\n",
       "      <td>piga</td>\n",
       "      <td>amepiga</td>\n",
       "      <td>V</td>\n",
       "    </tr>\n",
       "    <tr>\n",
       "      <th>1</th>\n",
       "      <td>piga</td>\n",
       "      <td>amepiga</td>\n",
       "      <td>PRF</td>\n",
       "    </tr>\n",
       "    <tr>\n",
       "      <th>2</th>\n",
       "      <td>piga</td>\n",
       "      <td>amepiga</td>\n",
       "      <td>FIN</td>\n",
       "    </tr>\n",
       "    <tr>\n",
       "      <th>3</th>\n",
       "      <td>piga</td>\n",
       "      <td>amepiga</td>\n",
       "      <td>IND</td>\n",
       "    </tr>\n",
       "    <tr>\n",
       "      <th>4</th>\n",
       "      <td>piga</td>\n",
       "      <td>amepiga</td>\n",
       "      <td>SG</td>\n",
       "    </tr>\n",
       "  </tbody>\n",
       "</table>\n",
       "</div>"
      ],
      "text/plain": [
       "  lemma     form attributes\n",
       "0  piga  amepiga          V\n",
       "1  piga  amepiga        PRF\n",
       "2  piga  amepiga        FIN\n",
       "3  piga  amepiga        IND\n",
       "4  piga  amepiga         SG"
      ]
     },
     "execution_count": 5,
     "metadata": {},
     "output_type": "execute_result"
    }
   ],
   "source": [
    "def unzip_attrs(df):\n",
    "\n",
    "    ## unzip attributes\n",
    "    df_unzip = []\n",
    "\n",
    "    for idx in df.index:\n",
    "        lemma, form, attrs = df.iloc[idx].to_list()\n",
    "\n",
    "        for attr in attrs.split(';'):\n",
    "            df_unzip.append([lemma, form, attr])\n",
    "        \n",
    "    ## create a new dataframe  \n",
    "    df_unzip = pd.DataFrame(df_unzip, columns=df.columns)\n",
    "        \n",
    "    return df_unzip\n",
    "\n",
    "df_train_unzip = unzip_attrs(df_train)\n",
    "df_train_unzip.head()"
   ]
  },
  {
   "cell_type": "markdown",
   "id": "f5f38e05-5936-4c53-b126-af5117890a8f",
   "metadata": {},
   "source": [
    "**Unique Characters:** Get the unique the characters of the language."
   ]
  },
  {
   "cell_type": "code",
   "execution_count": 32,
   "id": "f6fa0fe2-ad89-4460-9e22-7364e5ffc5d1",
   "metadata": {},
   "outputs": [
    {
     "name": "stdout",
     "output_type": "stream",
     "text": [
      "> Number of unique characters: 35\n",
      "> Characters: j, t, v, h, z, о, e, Ä, ž, k, r, p, b,  , f, ö, l, d, i, a, o, Š, g, s, š, y, ä, ʼ, c, n, č, ’, m, ;, u\n"
     ]
    }
   ],
   "source": [
    "## get the number of unique characters\n",
    "text = ''.join(df_train[['lemma', 'form']].to_numpy().flatten())\n",
    "\n",
    "## get (number of) unique characters\n",
    "unique_chars = set(text)\n",
    "n_chars = len(unique_chars)\n",
    "\n",
    "print(f\"> Number of unique characters: {n_chars}\\n> Characters: {', '.join(unique_chars)}\")"
   ]
  },
  {
   "cell_type": "markdown",
   "id": "f1cb2368-1c9f-48e4-a921-eee51aca90f5",
   "metadata": {},
   "source": [
    "**Morphological attributes:** histogram of different attributes, this will allow us to see which one is dominating."
   ]
  },
  {
   "cell_type": "code",
   "execution_count": 33,
   "id": "d73fca13-83fd-40a8-8f58-da71b84270c9",
   "metadata": {},
   "outputs": [
    {
     "name": "stdout",
     "output_type": "stream",
     "text": [
      "> Number of unique morphological attributes: 34\n",
      "> Morphological attributes: GEN, IN+ABL, IPFV, ADJ, IMP, IN+ESS, NOM, IN+ALL, AT+ESS+ALL, COND, SG, 2, POT, IND, INS, FRML, AT+ABL, COM, NEG, PL, PST, POS, PRF, ACC, TRANS, 1, PRS, NFIN, N, 3, PROL, PRT, PRIV, V\n"
     ]
    }
   ],
   "source": [
    "## get unique morphological attributes\n",
    "morph_attrs = ';'.join(df_train['attributes'].to_list()).split(';')\n",
    "morph_attrs = np.asarray(morph_attrs)\n",
    "unique_attrs = set(morph_attrs)\n",
    "n_attrs = len(unique_attrs)\n",
    "\n",
    "print(f\"> Number of unique morphological attributes: {n_attrs}\\n> Morphological attributes: {', '.join(unique_attrs)}\")"
   ]
  },
  {
   "cell_type": "code",
   "execution_count": 8,
   "id": "ea890535-16d1-4d7b-8c21-054222fc24b0",
   "metadata": {},
   "outputs": [
    {
     "data": {
      "image/png": "[encoded data removed]",
      "text/plain": [
       "<Figure size 1008x288 with 1 Axes>"
      ]
     },
     "metadata": {},
     "output_type": "display_data"
    }
   ],
   "source": [
    "## plot attributes count\n",
    "fig, ax = plt.subplots(figsize=(14, 4))\n",
    "df_train_unzip['attributes'].value_counts().plot.bar(ax=ax)\n",
    "ax.set_xlabel('morphological attributes')\n",
    "ax.set_ylabel('counts')\n",
    "plt.show()"
   ]
  },
  {
   "cell_type": "markdown",
   "id": "ea00cb2b-8547-4d85-9bae-ac6f2c116540",
   "metadata": {},
   "source": [
    "**Prefix:** extract the prefix of each lemma from each form will allow us to see which prefix are most correlated with different attributes."
   ]
  },
  {
   "cell_type": "code",
   "execution_count": 55,
   "id": "f56a6964-c359-450a-9081-23a84a7951ae",
   "metadata": {},
   "outputs": [],
   "source": [
    "def get_prefix(lemma, form):\n",
    "    \"\"\"returns the prefix from the given lemma & form\"\"\"\n",
    "    \n",
    "    if not lemma in form:\n",
    "        raise Exception('lemma should be in form')\n",
    "        \n",
    "    return form.replace(lemma, '')"
   ]
  },
  {
   "cell_type": "code",
   "execution_count": 56,
   "id": "37559021-dc97-48e2-93fb-d205681d7fc5",
   "metadata": {},
   "outputs": [
    {
     "data": {
      "text/html": [
       "<div>\n",
       "<style scoped>\n",
       "    .dataframe tbody tr th:only-of-type {\n",
       "        vertical-align: middle;\n",
       "    }\n",
       "\n",
       "    .dataframe tbody tr th {\n",
       "        vertical-align: top;\n",
       "    }\n",
       "\n",
       "    .dataframe thead th {\n",
       "        text-align: right;\n",
       "    }\n",
       "</style>\n",
       "<table border=\"1\" class=\"dataframe\">\n",
       "  <thead>\n",
       "    <tr style=\"text-align: right;\">\n",
       "      <th></th>\n",
       "      <th>lemma</th>\n",
       "      <th>form</th>\n",
       "      <th>attributes</th>\n",
       "      <th>prefix</th>\n",
       "    </tr>\n",
       "  </thead>\n",
       "  <tbody>\n",
       "    <tr>\n",
       "      <th>0</th>\n",
       "      <td>piga</td>\n",
       "      <td>amepiga</td>\n",
       "      <td>V</td>\n",
       "      <td>ame</td>\n",
       "    </tr>\n",
       "    <tr>\n",
       "      <th>1</th>\n",
       "      <td>piga</td>\n",
       "      <td>amepiga</td>\n",
       "      <td>PRF</td>\n",
       "      <td>ame</td>\n",
       "    </tr>\n",
       "    <tr>\n",
       "      <th>2</th>\n",
       "      <td>piga</td>\n",
       "      <td>amepiga</td>\n",
       "      <td>FIN</td>\n",
       "      <td>ame</td>\n",
       "    </tr>\n",
       "    <tr>\n",
       "      <th>3</th>\n",
       "      <td>piga</td>\n",
       "      <td>amepiga</td>\n",
       "      <td>IND</td>\n",
       "      <td>ame</td>\n",
       "    </tr>\n",
       "    <tr>\n",
       "      <th>4</th>\n",
       "      <td>piga</td>\n",
       "      <td>amepiga</td>\n",
       "      <td>SG</td>\n",
       "      <td>ame</td>\n",
       "    </tr>\n",
       "  </tbody>\n",
       "</table>\n",
       "</div>"
      ],
      "text/plain": [
       "  lemma     form attributes prefix\n",
       "0  piga  amepiga          V    ame\n",
       "1  piga  amepiga        PRF    ame\n",
       "2  piga  amepiga        FIN    ame\n",
       "3  piga  amepiga        IND    ame\n",
       "4  piga  amepiga         SG    ame"
      ]
     },
     "execution_count": 56,
     "metadata": {},
     "output_type": "execute_result"
    }
   ],
   "source": [
    "## add prefix column to dataframe\n",
    "df_train_unzip['prefix'] = df_train_unzip.apply(lambda x: get_prefix(x.lemma, x.form), axis=1)\n",
    "df_train_unzip.head()"
   ]
  },
  {
   "cell_type": "code",
   "execution_count": 57,
   "id": "35a5dc8d-df1d-4f72-ab8c-263efc7d2e83",
   "metadata": {},
   "outputs": [
    {
     "data": {
      "image/png": "[encoded data removed]",
      "text/plain": [
       "<Figure size 864x576 with 2 Axes>"
      ]
     },
     "metadata": {},
     "output_type": "display_data"
    }
   ],
   "source": [
    "## count number of prefix per attributes\n",
    "corr = pd.crosstab(index=df_train_unzip['prefix'], columns=df_train_unzip['attributes'])\n",
    "\n",
    "## display\n",
    "fig, ax = plt.subplots()\n",
    "sns.heatmap(corr, ax=ax, cmap='Blues')\n",
    "plt.show()"
   ]
  },
  {
   "cell_type": "markdown",
   "id": "63ad3c5a-c615-476d-b91a-e6656cbb0d8e",
   "metadata": {},
   "source": [
    "**Train & Test data**"
   ]
  },
  {
   "cell_type": "code",
   "execution_count": 59,
   "id": "23509f09-def8-4342-8f64-f3dd77f23c92",
   "metadata": {},
   "outputs": [],
   "source": [
    "## get features & labels for training data\n",
    "X_train, y_train = df_train_unzip[['lemma', 'form']].to_numpy(), df_train_unzip['attributes'].to_numpy()\n",
    "X_test = df_train_unzip[['lemma', 'form']].to_numpy()"
   ]
  },
  {
   "cell_type": "markdown",
   "id": "4b4788af-0eac-4fe8-824e-8a31bf59c28a",
   "metadata": {},
   "source": [
    "#### **1.2. Simple baseline to predict morphological attributes**\n",
    "Now we will write a super simple baseline using 5 rules to predict morphological attributes. This baseline consists of predicting the morphological attribute of a given form and lemma using one of the five rules:\n",
    "- *Mode*: predict returns the mode of the training labels.\n",
    "- *prior*: predict returns the prior element of the training labels.\n",
    "- *stratified* : predict returns an attribute of the training labels in a uniform way.\n",
    "- *uniform*: predict returns an attribute in a uniform way from unique attributes.\n",
    "- *constant*: predict returns a constant attribute from the learning labels."
   ]
  },
  {
   "cell_type": "code",
   "execution_count": 67,
   "id": "c9354f62-d608-4bc0-9b42-443690d65d94",
   "metadata": {},
   "outputs": [],
   "source": [
    "class SimpleBaseline:\n",
    "    \n",
    "    \"\"\"Simple Baseline to predict the morphological attribute of a given lemma and form\n",
    "    \n",
    "    Parameters\n",
    "    ----------\n",
    "    rule: str,\n",
    "        The rule to use to predict the attribute.\n",
    "        \n",
    "    Attributes\n",
    "    ----------\n",
    "    rules: set,\n",
    "        The set of available rules.\n",
    "    \"\"\"\n",
    "    \n",
    "    def __init__(self, rule='mode'):\n",
    "        self.rule = rule\n",
    "        self.rules = {\"mode\", \"prior\", \"stratified\", \"uniform\", \"constant\"}\n",
    "        \n",
    "    def fit(self, X, y):\n",
    "        \"\"\"fit the model\"\"\"\n",
    "        self.y = y\n",
    "        \n",
    "        return self\n",
    "        \n",
    "    def predict(self, x):\n",
    "        \"\"\"predict the attribute from x\"\"\"\n",
    "        \n",
    "        if self.rule not in self.rules:\n",
    "            raise Exception(f'rule should be in {self.rules}')\n",
    "            \n",
    "        if self.rule in ['mode', 'prior']:\n",
    "            y = stats.mode(self.y)[0][0]\n",
    "            \n",
    "        elif self.rule == 'uniform':\n",
    "            y = np.random.choice(np.unique(self.y))\n",
    "            \n",
    "        elif self.rule == 'stratified':\n",
    "            size = np.random.choice(len(set(self.y)))\n",
    "            y = np.random.choice(self.y, size=size)\n",
    "            \n",
    "        elif self.rule == 'constant':\n",
    "            y = self.y[0]\n",
    "        \n",
    "        return y\n",
    "    \n",
    "    def __repr__(self):\n",
    "        return 'SimpleBaseline'"
   ]
  },
  {
   "cell_type": "code",
   "execution_count": 72,
   "id": "059bb773-8bdc-4340-b4cd-7d9e6b1c8940",
   "metadata": {},
   "outputs": [
    {
     "data": {
      "text/plain": [
       "array(['PL', 'FIN', 'HAB', 'PRS', 'PST', 'DEF', 'FIN', 'V', 'IND', 'PL',\n",
       "       'IND'], dtype=object)"
      ]
     },
     "execution_count": 72,
     "metadata": {},
     "output_type": "execute_result"
    }
   ],
   "source": [
    "## create a simple baseline\n",
    "baseline = SimpleBaseline(rule='stratified')\n",
    "\n",
    "## fir the baseline model\n",
    "baseline.fit(X_train, y_train)\n",
    "\n",
    "## test the baseline\n",
    "baseline.predict(['piga', 'amepiga'])"
   ]
  },
  {
   "cell_type": "markdown",
   "id": "9e0cedc9-e61f-4f9a-ad3c-535350b0d57a",
   "metadata": {},
   "source": [
    "#### **Prefix-based model**\n",
    "One can predict using the prefix rule given above, for instance, get the prefix from the given form and lemma, and return the attribute which is most correlated with the prefix."
   ]
  },
  {
   "cell_type": "code",
   "execution_count": 73,
   "id": "54c35f53-2be2-47a3-8f7e-e44ffc13e39a",
   "metadata": {},
   "outputs": [],
   "source": [
    "class PrefixRule:\n",
    "    \"\"\"PrefixRule\"\"\"\n",
    "    \n",
    "    def __init__(self):\n",
    "        ...\n",
    "        \n",
    "    def fit(self, X, y):\n",
    "        \"\"\"to fit the model\"\"\"\n",
    "        ## get prefixes\n",
    "        prefixes = [get_prefix(lemma, form) for lemma, form in X]\n",
    "        ## unique prefixes\n",
    "        self.prefixes = set(prefixes)\n",
    "        ## compute correlation\n",
    "        df = pd.DataFrame([prefixes, y], index=['prefix', 'attribute']).T\n",
    "        self.corr = pd.crosstab(df['prefix'], df['attribute'])\n",
    "        \n",
    "        return self\n",
    "        \n",
    "    def predict(self, x):\n",
    "        ## get prefix\n",
    "        lemma, form = x\n",
    "        prefix = get_prefix(lemma, form)\n",
    "        \n",
    "        ## check that prefix is included in the list of prefix\n",
    "        if prefix not in self.prefixes:\n",
    "            raise Exception(f'prefix should be in {self.prefixes}')\n",
    "            \n",
    "        ## get attributes which are most correlated with prefix\n",
    "        max_val = self.corr.loc[prefix].max()\n",
    "        pred_attrs = self.corr.loc[prefix][self.corr.loc[prefix] == max_val].index.to_numpy()\n",
    "        \n",
    "        return pred_attrs\n",
    "    \n",
    "    def __repr__(self):\n",
    "        return 'PrefixRule'"
   ]
  },
  {
   "cell_type": "code",
   "execution_count": 74,
   "id": "37a99f50-9f48-404f-b96c-fd26f79ff287",
   "metadata": {},
   "outputs": [
    {
     "data": {
      "text/plain": [
       "PrefixRule"
      ]
     },
     "execution_count": 74,
     "metadata": {},
     "output_type": "execute_result"
    }
   ],
   "source": [
    "## create & fit the model\n",
    "prefix_rule = PrefixRule()\n",
    "prefix_rule.fit(X_train, y_train)"
   ]
  },
  {
   "cell_type": "code",
   "execution_count": 75,
   "id": "db397adf-b855-473c-b1c0-177c4e99891b",
   "metadata": {},
   "outputs": [
    {
     "name": "stdout",
     "output_type": "stream",
     "text": [
      "> The predicted attributes for (inuka, mtainuka):\t 2, FIN, FUT, IND, PL, V\n",
      "> The true attributes for (inuka, mtainuka)\t:\t V, FIN, IND, PL, 2, FUT\n"
     ]
    }
   ],
   "source": [
    "## pick random lemma & form\n",
    "lemma, form = X_train[np.random.randint(len(X_train))]\n",
    "\n",
    "## make predictions\n",
    "pred_attrs = prefix_rule.predict([lemma, form])\n",
    "\n",
    "print(f\"> The predicted attributes for ({lemma}, {form}):\\t {', '.join(pred_attrs)}\")\n",
    "\n",
    "## get true attributes\n",
    "true_attrs = df_train_unzip[(df_train_unzip['lemma'] == lemma) & (df_train_unzip['form'] == form)]['attributes']\n",
    "print(f\"> The true attributes for ({lemma}, {form})\\t:\\t {', '.join(true_attrs)}\")"
   ]
  },
  {
   "cell_type": "markdown",
   "id": "b21a8f54-dab1-4f38-8b49-fdf546304e8e",
   "metadata": {},
   "source": [
    ">**Comments:** \n",
    ">- This new model is more interesting because it can predict more than one attribute for a given lemma and form.\n",
    ">- But one of its main drawbacks is that it only takes into account prefixes that are in the training set."
   ]
  },
  {
   "cell_type": "markdown",
   "id": "6d59e517-97ee-4380-841d-fbe0b7b4e9ea",
   "metadata": {},
   "source": [
    "#### **1.3. Sklearn version**\n",
    "We will use sklearn to create a few actual models.\n",
    "To perform machine learning on text documents, we must first transform the text content into numerical feature vectors.\n",
    "\n",
    "**Bag of Words**\n",
    "\n",
    "The most intuitive way to do this is to use a *bag-of-words* representation which are high-dimensional sparse datasets:\n",
    "assign a fixed integer identifier to each word appearing in a document in the learning set."
   ]
  },
  {
   "cell_type": "code",
   "execution_count": 76,
   "id": "66558f34-35c7-41f1-881b-1d7c0efd8db0",
   "metadata": {},
   "outputs": [
    {
     "data": {
      "text/html": [
       "<div>\n",
       "<style scoped>\n",
       "    .dataframe tbody tr th:only-of-type {\n",
       "        vertical-align: middle;\n",
       "    }\n",
       "\n",
       "    .dataframe tbody tr th {\n",
       "        vertical-align: top;\n",
       "    }\n",
       "\n",
       "    .dataframe thead th {\n",
       "        text-align: right;\n",
       "    }\n",
       "</style>\n",
       "<table border=\"1\" class=\"dataframe\">\n",
       "  <thead>\n",
       "    <tr style=\"text-align: right;\">\n",
       "      <th></th>\n",
       "      <th>ambia</th>\n",
       "      <th>andika</th>\n",
       "      <th>anguka</th>\n",
       "      <th>anza</th>\n",
       "      <th>bandika</th>\n",
       "      <th>bofya</th>\n",
       "      <th>chafya</th>\n",
       "      <th>changanya</th>\n",
       "      <th>chapisha</th>\n",
       "      <th>cheka</th>\n",
       "      <th>...</th>\n",
       "      <th>tazama</th>\n",
       "      <th>tembea</th>\n",
       "      <th>tengeneza</th>\n",
       "      <th>tikisa</th>\n",
       "      <th>uliza</th>\n",
       "      <th>uwa</th>\n",
       "      <th>uza</th>\n",
       "      <th>vuta</th>\n",
       "      <th>zaa</th>\n",
       "      <th>zima</th>\n",
       "    </tr>\n",
       "  </thead>\n",
       "  <tbody>\n",
       "    <tr>\n",
       "      <th>index</th>\n",
       "      <td>0</td>\n",
       "      <td>1</td>\n",
       "      <td>2</td>\n",
       "      <td>3</td>\n",
       "      <td>4</td>\n",
       "      <td>5</td>\n",
       "      <td>6</td>\n",
       "      <td>7</td>\n",
       "      <td>8</td>\n",
       "      <td>9</td>\n",
       "      <td>...</td>\n",
       "      <td>87</td>\n",
       "      <td>88</td>\n",
       "      <td>89</td>\n",
       "      <td>90</td>\n",
       "      <td>91</td>\n",
       "      <td>92</td>\n",
       "      <td>93</td>\n",
       "      <td>94</td>\n",
       "      <td>95</td>\n",
       "      <td>96</td>\n",
       "    </tr>\n",
       "  </tbody>\n",
       "</table>\n",
       "<p>1 rows × 97 columns</p>\n",
       "</div>"
      ],
      "text/plain": [
       "       ambia  andika  anguka  anza  bandika  bofya  chafya  changanya  \\\n",
       "index      0       1       2     3        4      5       6          7   \n",
       "\n",
       "       chapisha  cheka  ...  tazama  tembea  tengeneza  tikisa  uliza  uwa  \\\n",
       "index         8      9  ...      87      88         89      90     91   92   \n",
       "\n",
       "       uza  vuta  zaa  zima  \n",
       "index   93    94   95    96  \n",
       "\n",
       "[1 rows x 97 columns]"
      ]
     },
     "execution_count": 76,
     "metadata": {},
     "output_type": "execute_result"
    }
   ],
   "source": [
    "## instantiate a dictionnary\n",
    "bag_of_words = {}\n",
    "unique_lemma = sorted(df_train_unzip['lemma'].unique())\n",
    "\n",
    "for idx, word in enumerate(unique_lemma):\n",
    "    bag_of_words[word] = idx\n",
    "    \n",
    "## display all in a dataframe\n",
    "pd.DataFrame(bag_of_words, index=['index'])"
   ]
  },
  {
   "cell_type": "code",
   "execution_count": 77,
   "id": "3d799927-fead-4844-8c2d-dbce5160adfa",
   "metadata": {},
   "outputs": [
    {
     "data": {
      "text/plain": [
       "[array(['ambia', 'andika', 'anguka', 'anza', 'bandika', 'bofya', 'chafya',\n",
       "        'changanya', 'chapisha', 'cheka', 'chimba', 'choma', 'chukia',\n",
       "        'chukua', 'elewa', 'enda', 'endesha', 'fagia', 'fanya', 'ficha',\n",
       "        'fika', 'fuata', 'funga', 'fungua', 'funza', 'gonga', 'gusa',\n",
       "        'imba', 'inua', 'inuka', 'jifunza', 'jisikia', 'jua', 'kaa',\n",
       "        'kamata', 'kamilisha', 'kata', 'kausha', 'kimbia', 'kohoa', 'kopa',\n",
       "        'kumbuka', 'kunja', 'kusanya', 'kwaruza', 'lala', 'lamba', 'leta',\n",
       "        'lia', 'meza', 'mwita', 'ngoja', 'nunua', 'nusa', 'oga', 'ogelea',\n",
       "        'omba', 'ona', 'ondoa', 'ongea', 'osha', 'ota', 'paa', 'pambua',\n",
       "        'panda', 'panguza', 'pea', 'piga', 'pika', 'ponda', 'potea',\n",
       "        'punguza', 'ruka', 'safisha', 'saga', 'saidia', 'sema', 'shikilia',\n",
       "        'shinda', 'sikiliza', 'simama', 'sinzia', 'soma', 'sukuma',\n",
       "        'tafuna', 'tafuta', 'taka', 'tazama', 'tembea', 'tengeneza',\n",
       "        'tikisa', 'uliza', 'uwa', 'uza', 'vuta', 'zaa', 'zima'],\n",
       "       dtype=object),\n",
       " array([0, 1, 2, 3, 4, 5, 6, 7, 8, 9, 10, 11, 12, 13, 14, 15, 16, 17, 18,\n",
       "        19, 20, 21, 22, 23, 24, 25, 26, 27, 28, 29, 30, 31, 32, 33, 34, 35,\n",
       "        36, 37, 38, 39, 40, 41, 42, 43, 44, 45, 46, 47, 48, 49, 50, 51, 52,\n",
       "        53, 54, 55, 56, 57, 58, 59, 60, 61, 62, 63, 64, 65, 66, 67, 68, 69,\n",
       "        70, 71, 72, 73, 74, 75, 76, 77, 78, 79, 80, 81, 82, 83, 84, 85, 86,\n",
       "        87, 88, 89, 90, 91, 92, 93, 94, 95, 96], dtype=object)]"
      ]
     },
     "execution_count": 77,
     "metadata": {},
     "output_type": "execute_result"
    }
   ],
   "source": [
    "## create a One Hot encoder\n",
    "enc = OneHotEncoder(handle_unknown='ignore')\n",
    "\n",
    "## fitting\n",
    "X = list(zip(bag_of_words.keys(), bag_of_words.values()))\n",
    "enc.fit(X)\n",
    "\n",
    "## print categories\n",
    "enc.categories_"
   ]
  },
  {
   "cell_type": "code",
   "execution_count": 78,
   "id": "03d34370-0244-4134-af94-68911df136dd",
   "metadata": {},
   "outputs": [
    {
     "data": {
      "text/plain": [
       "array([[1., 0., 0., ..., 0., 0., 0.],\n",
       "       [0., 1., 0., ..., 0., 0., 0.],\n",
       "       [0., 0., 1., ..., 0., 0., 0.],\n",
       "       ...,\n",
       "       [0., 0., 0., ..., 1., 0., 0.],\n",
       "       [0., 0., 0., ..., 0., 1., 0.],\n",
       "       [0., 0., 0., ..., 0., 0., 1.]])"
      ]
     },
     "execution_count": 78,
     "metadata": {},
     "output_type": "execute_result"
    }
   ],
   "source": [
    "## transform data\n",
    "enc.transform(X).toarray()"
   ]
  },
  {
   "cell_type": "markdown",
   "id": "c04f8959-2413-4c72-bc0b-c973e15f46ac",
   "metadata": {},
   "source": [
    "**Tokenizing text**\n",
    "\n",
    "Tokenizing is the process of tokenization or division of a string, a text into a list of tokens. "
   ]
  },
  {
   "cell_type": "code",
   "execution_count": 79,
   "id": "8876d022-8dcf-407a-80b4-bf47b3978aee",
   "metadata": {},
   "outputs": [
    {
     "data": {
      "text/plain": [
       "(21600, 97)"
      ]
     },
     "execution_count": 79,
     "metadata": {},
     "output_type": "execute_result"
    }
   ],
   "source": [
    "## create & fit a count vectorizer\n",
    "count_vect = CountVectorizer()\n",
    "all_lemma = df_train_unzip['lemma']\n",
    "X_train_counts = count_vect.fit_transform(all_lemma)\n",
    "X_train_counts.shape"
   ]
  },
  {
   "cell_type": "code",
   "execution_count": 80,
   "id": "784d7cf1-2075-4431-b74e-b5a72cb2e91c",
   "metadata": {},
   "outputs": [
    {
     "data": {
      "text/plain": [
       "array([[0, 0, 0, ..., 0, 0, 0],\n",
       "       [0, 0, 0, ..., 0, 0, 0],\n",
       "       [0, 0, 0, ..., 0, 0, 0],\n",
       "       ...,\n",
       "       [0, 0, 0, ..., 0, 0, 0],\n",
       "       [0, 0, 0, ..., 0, 0, 0],\n",
       "       [0, 0, 0, ..., 0, 0, 0]])"
      ]
     },
     "execution_count": 80,
     "metadata": {},
     "output_type": "execute_result"
    }
   ],
   "source": [
    "X_train_counts.toarray()"
   ]
  },
  {
   "cell_type": "markdown",
   "id": "3cedda82-b73c-448f-9b5f-62cd4a99e2b5",
   "metadata": {},
   "source": [
    "**From occurrences to frequencies**\n",
    "Term Frequency times Inverse Document Frequency"
   ]
  },
  {
   "cell_type": "code",
   "execution_count": 81,
   "id": "a6236085-f3d5-4fb8-bf74-a7632f7026b8",
   "metadata": {},
   "outputs": [
    {
     "data": {
      "text/plain": [
       "(21600, 97)"
      ]
     },
     "execution_count": 81,
     "metadata": {},
     "output_type": "execute_result"
    }
   ],
   "source": [
    "## create & fit a tf transformer\n",
    "tf_transformer = TfidfTransformer(use_idf=False).fit(X_train_counts)\n",
    "X_train_tf = tf_transformer.transform(X_train_counts)\n",
    "X_train_tf.shape"
   ]
  },
  {
   "cell_type": "code",
   "execution_count": 82,
   "id": "51270f02-7cef-403c-8120-afff3f9d1185",
   "metadata": {},
   "outputs": [
    {
     "data": {
      "text/plain": [
       "(21600, 97)"
      ]
     },
     "execution_count": 82,
     "metadata": {},
     "output_type": "execute_result"
    }
   ],
   "source": [
    "tfidf_transformer = TfidfTransformer()\n",
    "X_train_tfidf = tfidf_transformer.fit_transform(X_train_counts)\n",
    "X_train_tfidf.shape"
   ]
  },
  {
   "cell_type": "markdown",
   "id": "2627d4c6-16d9-4919-a45a-67e9e2290d38",
   "metadata": {},
   "source": [
    "**Create a Classifier**"
   ]
  },
  {
   "cell_type": "code",
   "execution_count": 83,
   "id": "3dd9628b-e27a-4d89-8ace-1bdd7fd5161b",
   "metadata": {},
   "outputs": [],
   "source": [
    "## create & fit a classifier\n",
    "clf = MultinomialNB().fit(X_train_tfidf, df_train_unzip['attributes'])"
   ]
  },
  {
   "cell_type": "code",
   "execution_count": 84,
   "id": "080056de-bd85-4be3-9c51-dda418561e12",
   "metadata": {},
   "outputs": [
    {
     "data": {
      "text/plain": [
       "array(['FIN', 'FIN', 'FIN', 'FIN', 'FIN'], dtype='<U4')"
      ]
     },
     "execution_count": 84,
     "metadata": {},
     "output_type": "execute_result"
    }
   ],
   "source": [
    "## transform testing data\n",
    "X_new_counts = count_vect.transform(df_train['form'])\n",
    "X_new_tfidf = tfidf_transformer.transform(X_new_counts)\n",
    "\n",
    "## make predictions\n",
    "predicted = clf.predict(X_new_tfidf)\n",
    "\n",
    "predicted[:5]"
   ]
  },
  {
   "cell_type": "markdown",
   "id": "533f6876-cc9e-43b0-858a-422ac945775d",
   "metadata": {},
   "source": [
    "### ■ **<a name=\"actualWork\">2. Actual Work</a>** [(&#8593;)](#content)\n",
    "The purpose of this section si to propose models for the shared-task task 0 problem. To do so, we will use the development data to design two models (a neural and a non neural) that given a lemma and a set of morphological attributes return the corresponding form.\n",
    "\n",
    "#### **2.1. Neural version**"
   ]
  },
  {
   "cell_type": "markdown",
   "id": "8465d026-4f3c-45a4-8255-d3e33391fe75",
   "metadata": {},
   "source": [
    "#### **2.2. Non-Neural version**"
   ]
  },
  {
   "cell_type": "code",
   "execution_count": 21,
   "id": "a6686a5f-dd24-4c0d-9e49-d97e909d36cd",
   "metadata": {},
   "outputs": [],
   "source": []
  },
  {
   "cell_type": "markdown",
   "id": "a9e3f32a-d28a-4026-a826-05e6125c7d7e",
   "metadata": {},
   "source": [
    "**Bag of Words**\n",
    "Instead of applying bag of words to each word, we will apply it each character as the number of characters is limited and known unlike the number of words."
   ]
  },
  {
   "cell_type": "code",
   "execution_count": 34,
   "id": "0692cddd-4360-4ccc-9993-1e88aa0bb023",
   "metadata": {},
   "outputs": [
    {
     "data": {
      "text/plain": [
       "{'GEN': 1,\n",
       " 'IN+ABL': 2,\n",
       " 'IPFV': 3,\n",
       " 'ADJ': 4,\n",
       " 'IMP': 5,\n",
       " 'IN+ESS': 6,\n",
       " 'NOM': 7,\n",
       " 'IN+ALL': 8,\n",
       " 'AT+ESS+ALL': 9,\n",
       " 'COND': 10,\n",
       " 'SG': 11,\n",
       " '2': 12,\n",
       " 'POT': 13,\n",
       " 'IND': 14,\n",
       " 'INS': 15,\n",
       " 'FRML': 16,\n",
       " 'AT+ABL': 17,\n",
       " 'COM': 18,\n",
       " 'NEG': 19,\n",
       " 'PL': 20,\n",
       " 'PST': 21,\n",
       " 'POS': 22,\n",
       " 'PRF': 23,\n",
       " 'ACC': 24,\n",
       " 'TRANS': 25,\n",
       " '1': 26,\n",
       " 'PRS': 27,\n",
       " 'NFIN': 28,\n",
       " 'N': 29,\n",
       " '3': 30,\n",
       " 'PROL': 31,\n",
       " 'PRT': 32,\n",
       " 'PRIV': 33,\n",
       " 'V': 34}"
      ]
     },
     "execution_count": 34,
     "metadata": {},
     "output_type": "execute_result"
    }
   ],
   "source": [
    "## bag of words\n",
    "char_dict = dict(zip(unique_chars, range(1, len(unique_chars)+1)))\n",
    "inv_char_dict = {n:char for char, n in char_dict.items()}\n",
    "\n",
    "attr_dict = {attr:i for i, attr in enumerate(unique_attrs, start=1)}\n",
    "attr_dict"
   ]
  },
  {
   "cell_type": "code",
   "execution_count": 35,
   "id": "d46815aa-b449-460a-a22d-5461f0dd31c9",
   "metadata": {},
   "outputs": [
    {
     "name": "stdout",
     "output_type": "stream",
     "text": [
      "The maximum possible number of character in a lemma: 16\n",
      "The maximum possible number of character in a form : 26\n",
      "The maximum possible number of attributes for a given lemma & form: 7\n"
     ]
    }
   ],
   "source": [
    "## get all characters in each lemma\n",
    "train_lemmas = np.array([[[char] for char in lemma] for lemma in df_train['lemma'].to_list()], dtype='object')\n",
    "test_lemmas = np.array([[[char] for char in lemma] for lemma in df_test['lemma'].to_list()], dtype='object')\n",
    "\n",
    "## get each attribute\n",
    "train_attrs = df_train['attributes'].apply(lambda x: x.split(';'))\n",
    "train_attrs = np.array([[[attr] for attr in set_attrs] for set_attrs in train_attrs], dtype='object')\n",
    "test_attrs = df_test['attributes'].apply(lambda x: x.split(';'))\n",
    "test_attrs = np.array([[[attr] for attr in set_attrs] for set_attrs in test_attrs], dtype='object')\n",
    "\n",
    "## get forms\n",
    "train_forms = np.array([[[char] for char in form] for form in df_train['form'].to_list()], dtype='object')\n",
    "test_forms = np.array([[[char] for char in form] for form in df_test['form'].to_list()], dtype='object')\n",
    "\n",
    "## compute maximum possible characters in a lemma and a form\n",
    "max_lemma_length = df_train['lemma'].apply(list).apply(len).max()\n",
    "max_form_length = df_train['form'].apply(lambda x: len(list(x))).max()\n",
    "\n",
    "## compute maximum possible number of attributes\n",
    "max_n_attrs = df_train['attributes'].apply(lambda x: len(x.split(';'))).max()\n",
    "\n",
    "## \n",
    "print(f'The maximum possible number of character in a lemma: {max_lemma_length}')\n",
    "print(f'The maximum possible number of character in a form : {max_form_length}')\n",
    "print(f'The maximum possible number of attributes for a given lemma & form: {max_n_attrs}')"
   ]
  },
  {
   "cell_type": "code",
   "execution_count": 36,
   "id": "c2e48765-42c4-40b2-a2f2-9745eda8bda2",
   "metadata": {},
   "outputs": [],
   "source": [
    "def pad(array, n, val):\n",
    "    \"\"\"to pad a given vector to size n with value val\"\"\"\n",
    "    return np.append(array, np.full(n - len(array), val))\n",
    "\n",
    "def vect2word(vect):\n",
    "    word = ''.join([inv_char_dict[i] for i in vect if i])\n",
    "    return word\n",
    "\n",
    "def create_trainset(lemmas, forms, attributes, max_lemma, max_form, max_attrs):\n",
    "    \"\"\"create a bag of words training set\"\"\"\n",
    "    ## create X and y train\n",
    "    X_train, y_train = [], []\n",
    "    for lemma, form, set_attrs in zip(lemmas, forms, attributes):\n",
    "        x, y = [], []\n",
    "        \n",
    "        l = []\n",
    "        for char in lemma:\n",
    "            l.append(char_dict[char[0]])\n",
    "            \n",
    "        for char in form:\n",
    "            y.append(char_dict[char[0]])\n",
    "\n",
    "        at = []\n",
    "        for attr in set_attrs:\n",
    "            at.append(attr_dict[attr[0]])\n",
    "\n",
    "\n",
    "        x = np.append(pad(l, max_lemma, 0), pad(at, max_attrs, 0))\n",
    "        X_train.append(x)\n",
    "        y_train.append(pad(y, max_form, 0))\n",
    "        \n",
    "    return X_train, y_train\n",
    "\n",
    "## get training & test set\n",
    "X_train, y_train = create_trainset(train_lemmas, train_forms, train_attrs, max_lemma_length, max_form_length, max_n_attrs)\n",
    "X_test, y_test = create_trainset(test_lemmas, test_forms, test_attrs, max_lemma_length, max_form_length, max_n_attrs)"
   ]
  },
  {
   "cell_type": "code",
   "execution_count": null,
   "id": "ed365f70-758d-4661-8b0f-f688fd7a359c",
   "metadata": {},
   "outputs": [],
   "source": [
    "## create & fit an RF model\n",
    "clf = RandomForestClassifier(random_state=0)\n",
    "clf.fit(X_train, y_train)\n",
    "\n",
    "## make predictions\n",
    "y_pred = clf.predict(X_test)\n",
    "\n",
    "## vects to words\n",
    "words_predictions = [vect2word(vect) for vect in y_pred]\n",
    "words_test = [vect2word(vect) for vect in y_test]\n",
    "\n",
    "## accuracy\n",
    "word_accuracy = eval_acc(words_predictions, words_test)\n",
    "word_accuracy"
   ]
  },
  {
   "cell_type": "code",
   "execution_count": 21,
   "id": "d77acb35-aa72-4d7a-a992-4c2e638a768b",
   "metadata": {},
   "outputs": [
    {
     "data": {
      "text/plain": [
       "0.8326843514237041"
      ]
     },
     "execution_count": 21,
     "metadata": {},
     "output_type": "execute_result"
    }
   ],
   "source": [
    "## character accuracy\n",
    "char_accuracy = 0\n",
    "total_chars = 0\n",
    "for word1, word2 in zip(words_predictions, words_test):\n",
    "    char_accuracy += len(word1) - distance(word1, word2)\n",
    "    total_chars += len(word1)\n",
    "    \n",
    "char_accuracy / total_chars"
   ]
  },
  {
   "cell_type": "code",
   "execution_count": null,
   "id": "8983c364-2d3f-4504-b58c-efb2cf43ca30",
   "metadata": {},
   "outputs": [],
   "source": [
    "def bag_of_words_pipeline(train_file, test_file, verbose=1):\n",
    "    ## dataframe\n",
    "    df_train = read_file(train_file)\n",
    "    df_test = read_file(test_file)\n",
    "\n",
    "    ## number of training & testing samples\n",
    "    n_train = df_train.shape[0]\n",
    "    n_test = df_test.shape[0]\n",
    "    if verbose:\n",
    "        print(f'Number of training samples: {n_train}')\n",
    "        print(f'Number of testing samples : {n_test}')*\n",
    "    \n",
    "    ## get the number of unique characters\n",
    "    text = ''.join(df_train[['lemma', 'form']].to_numpy().flatten())\n",
    "\n",
    "    ## get (number of) unique characters\n",
    "    unique_chars = set(text)\n",
    "    n_chars = len(unique_chars)\n",
    "    \n",
    "    ## get unique morphological attributes\n",
    "    morph_attrs = ';'.join(df_train['attributes'].to_list()).split(';')\n",
    "    morph_attrs = np.asarray(morph_attrs)\n",
    "    unique_attrs = set(morph_attrs)\n",
    "    n_attrs = len(unique_attrs)\n",
    "    \n",
    "    if verbose:\n",
    "        print(f\"> Number of unique characters: {n_chars}\\n> Characters: {', '.join(unique_chars)}\")\n",
    "        print(f\"> Number of unique morphological attributes: {n_attrs}\\n> Morphological attributes: {', '.join(unique_attrs)}\")\n",
    "    \n",
    "    ## bag of words\n",
    "    char_dict = dict(zip(unique_chars, range(1, len(unique_chars)+1)))\n",
    "    inv_char_dict = {n:char for char, n in char_dict.items()}\n",
    "\n",
    "    attr_dict = {attr:i for i, attr in enumerate(unique_attrs, start=1)}\n",
    "    \n",
    "    ## get all characters in each lemma\n",
    "    train_lemmas = np.array([[[char] for char in lemma] for lemma in df_train['lemma'].to_list()], dtype='object')\n",
    "    test_lemmas = np.array([[[char] for char in lemma] for lemma in df_test['lemma'].to_list()], dtype='object')\n",
    "\n",
    "    ## get each attribute\n",
    "    train_attrs = df_train['attributes'].apply(lambda x: x.split(';'))\n",
    "    train_attrs = np.array([[[attr] for attr in set_attrs] for set_attrs in train_attrs], dtype='object')\n",
    "    test_attrs = df_test['attributes'].apply(lambda x: x.split(';'))\n",
    "    test_attrs = np.array([[[attr] for attr in set_attrs] for set_attrs in test_attrs], dtype='object')\n",
    "\n",
    "    ## get forms\n",
    "    train_forms = np.array([[[char] for char in form] for form in df_train['form'].to_list()], dtype='object')\n",
    "    test_forms = np.array([[[char] for char in form] for form in df_test['form'].to_list()], dtype='object')\n",
    "\n",
    "    ## compute maximum possible characters in a lemma and a form\n",
    "    max_lemma_length = df_train['lemma'].apply(list).apply(len).max()\n",
    "    max_form_length = df_train['form'].apply(lambda x: len(list(x))).max()\n",
    "\n",
    "    ## compute maximum possible number of attributes\n",
    "    max_n_attrs = df_train['attributes'].apply(lambda x: len(x.split(';'))).max()\n",
    "\n",
    "    ## \n",
    "    if verbose:\n",
    "        print(f'The maximum possible number of character in a lemma: {max_lemma_length}')\n",
    "        print(f'The maximum possible number of character in a form : {max_form_length}')\n",
    "        print(f'The maximum possible number of attributes for a given lemma & form: {max_n_attrs}')\n",
    "    \n",
    "    ## get training & test set\n",
    "    X_train, y_train = create_trainset(train_lemmas, train_forms, train_attrs, max_lemma_length, max_form_length, max_n_attrs)\n",
    "    X_test, y_test = create_trainset(test_lemmas, test_forms, test_attrs, max_lemma_length, max_form_length, max_n_attrs)\n",
    "    \n",
    "    ## create & fit an RF model\n",
    "    clf = RandomForestClassifier(random_state=0)\n",
    "    clf.fit(X_train, y_train)\n",
    "\n",
    "    ## make predictions\n",
    "    y_pred = clf.predict(X_test)\n",
    "\n",
    "    ## vects to words\n",
    "    words_predictions = [vect2word(vect) for vect in y_pred]\n",
    "    words_test = [vect2word(vect) for vect in y_test]\n",
    "\n",
    "    ## accuracy\n",
    "    word_accuracy = eval_acc(words_predictions, words_test)\n",
    "    \n",
    "    ## character accuracy\n",
    "    char_accuracy = 0\n",
    "    total_chars = 0\n",
    "    for word1, word2 in zip(words_predictions, words_test):\n",
    "        char_accuracy += len(word1) - distance(word1, word2)\n",
    "        total_chars += len(word1)\n",
    "    \n",
    "    print(f'word accuracy     : {word_accuracy}')\n",
    "    print(f'character accuracy: {char_accuracy / total_chars}')"
   ]
  },
  {
   "cell_type": "markdown",
   "id": "254c9a74-45bb-4624-9b9b-07137b990cbc",
   "metadata": {},
   "source": [
    "#### **OneHot encoding**"
   ]
  },
  {
   "cell_type": "code",
   "execution_count": 85,
   "id": "1b64008b-e8e1-49a1-b936-40e810eea67d",
   "metadata": {},
   "outputs": [
    {
     "data": {
      "text/plain": [
       "[array(['a', 'b', 'c', 'd', 'e', 'f', 'g', 'h', 'i', 'j', 'k', 'l', 'm',\n",
       "        'n', 'o', 'p', 'r', 's', 't', 'u', 'v', 'w', 'y', 'z'], dtype='<U1')]"
      ]
     },
     "execution_count": 85,
     "metadata": {},
     "output_type": "execute_result"
    }
   ],
   "source": [
    "## create a One Hot encoder\n",
    "enc_lemmas = OneHotEncoder(handle_unknown='ignore')\n",
    "\n",
    "## fitting\n",
    "x = np.array(list(unique_chars)).reshape(-1, 1)\n",
    "enc_lemmas.fit(x)\n",
    "\n",
    "## print categories\n",
    "enc_lemmas.categories_"
   ]
  },
  {
   "cell_type": "code",
   "execution_count": 88,
   "id": "ff62298d-58b4-47f2-9b99-62a9cefe4ba5",
   "metadata": {},
   "outputs": [
    {
     "data": {
      "text/plain": [
       "[array(['1', '2', '3', 'COND', 'DEF', 'FIN', 'FUT', 'HAB', 'IND', 'INDF',\n",
       "        'PL', 'PRF', 'PRS', 'PST', 'SG', 'V'], dtype='<U4')]"
      ]
     },
     "execution_count": 88,
     "metadata": {},
     "output_type": "execute_result"
    }
   ],
   "source": [
    "## create a One Hot encoder\n",
    "enc_attrs = OneHotEncoder(handle_unknown='ignore')\n",
    "\n",
    "## fitting\n",
    "x = morph_attrs.reshape(-1, 1)\n",
    "enc_attrs.fit(x)\n",
    "\n",
    "## print categories\n",
    "enc_attrs.categories_"
   ]
  },
  {
   "cell_type": "code",
   "execution_count": 106,
   "id": "328da7a2-d323-4dac-be1d-69d91bb612a3",
   "metadata": {},
   "outputs": [
    {
     "name": "stderr",
     "output_type": "stream",
     "text": [
      "3504it [00:02, 1495.07it/s]\n"
     ]
    },
    {
     "ename": "KeyboardInterrupt",
     "evalue": "",
     "output_type": "error",
     "traceback": [
      "\u001b[0;31m---------------------------------------------------------------------------\u001b[0m",
      "\u001b[0;31mKeyboardInterrupt\u001b[0m                         Traceback (most recent call last)",
      "\u001b[0;32m<ipython-input-106-9090d5810854>\u001b[0m in \u001b[0;36m<module>\u001b[0;34m\u001b[0m\n\u001b[1;32m     10\u001b[0m \u001b[0;34m\u001b[0m\u001b[0m\n\u001b[1;32m     11\u001b[0m     \u001b[0mlemma_tr\u001b[0m \u001b[0;34m=\u001b[0m \u001b[0menc_lemmas\u001b[0m\u001b[0;34m.\u001b[0m\u001b[0mtransform\u001b[0m\u001b[0;34m(\u001b[0m\u001b[0mlemma\u001b[0m\u001b[0;34m)\u001b[0m\u001b[0;34m.\u001b[0m\u001b[0mtoarray\u001b[0m\u001b[0;34m(\u001b[0m\u001b[0;34m)\u001b[0m\u001b[0;34m\u001b[0m\u001b[0;34m\u001b[0m\u001b[0m\n\u001b[0;32m---> 12\u001b[0;31m     \u001b[0mattr_tr\u001b[0m \u001b[0;34m=\u001b[0m \u001b[0menc_attrs\u001b[0m\u001b[0;34m.\u001b[0m\u001b[0mtransform\u001b[0m\u001b[0;34m(\u001b[0m\u001b[0mset_attrs\u001b[0m\u001b[0;34m)\u001b[0m\u001b[0;34m.\u001b[0m\u001b[0mtoarray\u001b[0m\u001b[0;34m(\u001b[0m\u001b[0;34m)\u001b[0m\u001b[0;34m\u001b[0m\u001b[0;34m\u001b[0m\u001b[0m\n\u001b[0m\u001b[1;32m     13\u001b[0m \u001b[0;34m\u001b[0m\u001b[0m\n\u001b[1;32m     14\u001b[0m     \u001b[0mlemma_tr\u001b[0m \u001b[0;34m=\u001b[0m \u001b[0mcompelete_array\u001b[0m\u001b[0;34m(\u001b[0m\u001b[0mlemma_tr\u001b[0m\u001b[0;34m,\u001b[0m \u001b[0mmax_lemma_length\u001b[0m\u001b[0;34m)\u001b[0m\u001b[0;34m\u001b[0m\u001b[0;34m\u001b[0m\u001b[0m\n",
      "\u001b[0;32m~/anaconda3/lib/python3.8/site-packages/sklearn/preprocessing/_encoders.py\u001b[0m in \u001b[0;36mtransform\u001b[0;34m(self, X)\u001b[0m\n\u001b[1;32m    507\u001b[0m         \u001b[0;31m# validation of X happens in _check_X called by _transform\u001b[0m\u001b[0;34m\u001b[0m\u001b[0;34m\u001b[0m\u001b[0;34m\u001b[0m\u001b[0m\n\u001b[1;32m    508\u001b[0m         \u001b[0mwarn_on_unknown\u001b[0m \u001b[0;34m=\u001b[0m \u001b[0mself\u001b[0m\u001b[0;34m.\u001b[0m\u001b[0mhandle_unknown\u001b[0m \u001b[0;34m==\u001b[0m \u001b[0;34m\"ignore\"\u001b[0m \u001b[0;32mand\u001b[0m \u001b[0mself\u001b[0m\u001b[0;34m.\u001b[0m\u001b[0mdrop\u001b[0m \u001b[0;32mis\u001b[0m \u001b[0;32mnot\u001b[0m \u001b[0;32mNone\u001b[0m\u001b[0;34m\u001b[0m\u001b[0;34m\u001b[0m\u001b[0m\n\u001b[0;32m--> 509\u001b[0;31m         X_int, X_mask = self._transform(\n\u001b[0m\u001b[1;32m    510\u001b[0m             \u001b[0mX\u001b[0m\u001b[0;34m,\u001b[0m\u001b[0;34m\u001b[0m\u001b[0;34m\u001b[0m\u001b[0m\n\u001b[1;32m    511\u001b[0m             \u001b[0mhandle_unknown\u001b[0m\u001b[0;34m=\u001b[0m\u001b[0mself\u001b[0m\u001b[0;34m.\u001b[0m\u001b[0mhandle_unknown\u001b[0m\u001b[0;34m,\u001b[0m\u001b[0;34m\u001b[0m\u001b[0;34m\u001b[0m\u001b[0m\n",
      "\u001b[0;32m~/anaconda3/lib/python3.8/site-packages/sklearn/preprocessing/_encoders.py\u001b[0m in \u001b[0;36m_transform\u001b[0;34m(self, X, handle_unknown, force_all_finite, warn_on_unknown)\u001b[0m\n\u001b[1;32m    122\u001b[0m         \u001b[0mself\u001b[0m\u001b[0;34m.\u001b[0m\u001b[0m_check_feature_names\u001b[0m\u001b[0;34m(\u001b[0m\u001b[0mX\u001b[0m\u001b[0;34m,\u001b[0m \u001b[0mreset\u001b[0m\u001b[0;34m=\u001b[0m\u001b[0;32mFalse\u001b[0m\u001b[0;34m)\u001b[0m\u001b[0;34m\u001b[0m\u001b[0;34m\u001b[0m\u001b[0m\n\u001b[1;32m    123\u001b[0m         \u001b[0mself\u001b[0m\u001b[0;34m.\u001b[0m\u001b[0m_check_n_features\u001b[0m\u001b[0;34m(\u001b[0m\u001b[0mX\u001b[0m\u001b[0;34m,\u001b[0m \u001b[0mreset\u001b[0m\u001b[0;34m=\u001b[0m\u001b[0;32mFalse\u001b[0m\u001b[0;34m)\u001b[0m\u001b[0;34m\u001b[0m\u001b[0;34m\u001b[0m\u001b[0m\n\u001b[0;32m--> 124\u001b[0;31m         X_list, n_samples, n_features = self._check_X(\n\u001b[0m\u001b[1;32m    125\u001b[0m             \u001b[0mX\u001b[0m\u001b[0;34m,\u001b[0m \u001b[0mforce_all_finite\u001b[0m\u001b[0;34m=\u001b[0m\u001b[0mforce_all_finite\u001b[0m\u001b[0;34m\u001b[0m\u001b[0;34m\u001b[0m\u001b[0m\n\u001b[1;32m    126\u001b[0m         )\n",
      "\u001b[0;32m~/anaconda3/lib/python3.8/site-packages/sklearn/preprocessing/_encoders.py\u001b[0m in \u001b[0;36m_check_X\u001b[0;34m(self, X, force_all_finite)\u001b[0m\n\u001b[1;32m     44\u001b[0m             \u001b[0mX_temp\u001b[0m \u001b[0;34m=\u001b[0m \u001b[0mcheck_array\u001b[0m\u001b[0;34m(\u001b[0m\u001b[0mX\u001b[0m\u001b[0;34m,\u001b[0m \u001b[0mdtype\u001b[0m\u001b[0;34m=\u001b[0m\u001b[0;32mNone\u001b[0m\u001b[0;34m,\u001b[0m \u001b[0mforce_all_finite\u001b[0m\u001b[0;34m=\u001b[0m\u001b[0mforce_all_finite\u001b[0m\u001b[0;34m)\u001b[0m\u001b[0;34m\u001b[0m\u001b[0;34m\u001b[0m\u001b[0m\n\u001b[1;32m     45\u001b[0m             \u001b[0;32mif\u001b[0m \u001b[0;32mnot\u001b[0m \u001b[0mhasattr\u001b[0m\u001b[0;34m(\u001b[0m\u001b[0mX\u001b[0m\u001b[0;34m,\u001b[0m \u001b[0;34m\"dtype\"\u001b[0m\u001b[0;34m)\u001b[0m \u001b[0;32mand\u001b[0m \u001b[0mnp\u001b[0m\u001b[0;34m.\u001b[0m\u001b[0missubdtype\u001b[0m\u001b[0;34m(\u001b[0m\u001b[0mX_temp\u001b[0m\u001b[0;34m.\u001b[0m\u001b[0mdtype\u001b[0m\u001b[0;34m,\u001b[0m \u001b[0mnp\u001b[0m\u001b[0;34m.\u001b[0m\u001b[0mstr_\u001b[0m\u001b[0;34m)\u001b[0m\u001b[0;34m:\u001b[0m\u001b[0;34m\u001b[0m\u001b[0;34m\u001b[0m\u001b[0m\n\u001b[0;32m---> 46\u001b[0;31m                 \u001b[0mX\u001b[0m \u001b[0;34m=\u001b[0m \u001b[0mcheck_array\u001b[0m\u001b[0;34m(\u001b[0m\u001b[0mX\u001b[0m\u001b[0;34m,\u001b[0m \u001b[0mdtype\u001b[0m\u001b[0;34m=\u001b[0m\u001b[0mobject\u001b[0m\u001b[0;34m,\u001b[0m \u001b[0mforce_all_finite\u001b[0m\u001b[0;34m=\u001b[0m\u001b[0mforce_all_finite\u001b[0m\u001b[0;34m)\u001b[0m\u001b[0;34m\u001b[0m\u001b[0;34m\u001b[0m\u001b[0m\n\u001b[0m\u001b[1;32m     47\u001b[0m             \u001b[0;32melse\u001b[0m\u001b[0;34m:\u001b[0m\u001b[0;34m\u001b[0m\u001b[0;34m\u001b[0m\u001b[0m\n\u001b[1;32m     48\u001b[0m                 \u001b[0mX\u001b[0m \u001b[0;34m=\u001b[0m \u001b[0mX_temp\u001b[0m\u001b[0;34m\u001b[0m\u001b[0;34m\u001b[0m\u001b[0m\n",
      "\u001b[0;32m~/anaconda3/lib/python3.8/site-packages/sklearn/utils/validation.py\u001b[0m in \u001b[0;36mcheck_array\u001b[0;34m(array, accept_sparse, accept_large_sparse, dtype, order, copy, force_all_finite, ensure_2d, allow_nd, ensure_min_samples, ensure_min_features, estimator)\u001b[0m\n\u001b[1;32m    724\u001b[0m         \u001b[0;31m# thereby passing the test made in the lines following the scope\u001b[0m\u001b[0;34m\u001b[0m\u001b[0;34m\u001b[0m\u001b[0;34m\u001b[0m\u001b[0m\n\u001b[1;32m    725\u001b[0m         \u001b[0;31m# of warnings context manager.\u001b[0m\u001b[0;34m\u001b[0m\u001b[0;34m\u001b[0m\u001b[0;34m\u001b[0m\u001b[0m\n\u001b[0;32m--> 726\u001b[0;31m         \u001b[0;32mwith\u001b[0m \u001b[0mwarnings\u001b[0m\u001b[0;34m.\u001b[0m\u001b[0mcatch_warnings\u001b[0m\u001b[0;34m(\u001b[0m\u001b[0;34m)\u001b[0m\u001b[0;34m:\u001b[0m\u001b[0;34m\u001b[0m\u001b[0;34m\u001b[0m\u001b[0m\n\u001b[0m\u001b[1;32m    727\u001b[0m             \u001b[0;32mtry\u001b[0m\u001b[0;34m:\u001b[0m\u001b[0;34m\u001b[0m\u001b[0;34m\u001b[0m\u001b[0m\n\u001b[1;32m    728\u001b[0m                 \u001b[0mwarnings\u001b[0m\u001b[0;34m.\u001b[0m\u001b[0msimplefilter\u001b[0m\u001b[0;34m(\u001b[0m\u001b[0;34m\"error\"\u001b[0m\u001b[0;34m,\u001b[0m \u001b[0mComplexWarning\u001b[0m\u001b[0;34m)\u001b[0m\u001b[0;34m\u001b[0m\u001b[0;34m\u001b[0m\u001b[0m\n",
      "\u001b[0;32m~/anaconda3/lib/python3.8/warnings.py\u001b[0m in \u001b[0;36m__init__\u001b[0;34m(self, record, module)\u001b[0m\n\u001b[1;32m    444\u001b[0m         \"\"\"\n\u001b[1;32m    445\u001b[0m         \u001b[0mself\u001b[0m\u001b[0;34m.\u001b[0m\u001b[0m_record\u001b[0m \u001b[0;34m=\u001b[0m \u001b[0mrecord\u001b[0m\u001b[0;34m\u001b[0m\u001b[0;34m\u001b[0m\u001b[0m\n\u001b[0;32m--> 446\u001b[0;31m         \u001b[0mself\u001b[0m\u001b[0;34m.\u001b[0m\u001b[0m_module\u001b[0m \u001b[0;34m=\u001b[0m \u001b[0msys\u001b[0m\u001b[0;34m.\u001b[0m\u001b[0mmodules\u001b[0m\u001b[0;34m[\u001b[0m\u001b[0;34m'warnings'\u001b[0m\u001b[0;34m]\u001b[0m \u001b[0;32mif\u001b[0m \u001b[0mmodule\u001b[0m \u001b[0;32mis\u001b[0m \u001b[0;32mNone\u001b[0m \u001b[0;32melse\u001b[0m \u001b[0mmodule\u001b[0m\u001b[0;34m\u001b[0m\u001b[0;34m\u001b[0m\u001b[0m\n\u001b[0m\u001b[1;32m    447\u001b[0m         \u001b[0mself\u001b[0m\u001b[0;34m.\u001b[0m\u001b[0m_entered\u001b[0m \u001b[0;34m=\u001b[0m \u001b[0;32mFalse\u001b[0m\u001b[0;34m\u001b[0m\u001b[0;34m\u001b[0m\u001b[0m\n\u001b[1;32m    448\u001b[0m \u001b[0;34m\u001b[0m\u001b[0m\n",
      "\u001b[0;31mKeyboardInterrupt\u001b[0m: "
     ]
    }
   ],
   "source": [
    "def compelete_array(array, l):\n",
    "    comp = np.zeros((l - array.shape[0], array.shape[1]))\n",
    "    \n",
    "    return np.vstack((array, comp))\n",
    "\n",
    "\n",
    "X_train = []\n",
    "\n",
    "for lemma, set_attrs in tqdm(zip(lemmas, attrs)):\n",
    "    \n",
    "    lemma_tr = enc_lemmas.transform(lemma).toarray()\n",
    "    attr_tr = enc_attrs.transform(set_attrs).toarray()\n",
    "    \n",
    "    lemma_tr = compelete_array(lemma_tr, max_lemma_length)\n",
    "    attr_tr = compelete_array(attr_tr, max_attrs)\n",
    "    \n",
    "    \n",
    "    X_train.append(lemma_tr)"
   ]
  },
  {
   "cell_type": "code",
   "execution_count": 22,
   "id": "fa6222c7-d1a7-46dc-9594-913e3a2f3d5b",
   "metadata": {},
   "outputs": [
    {
     "data": {
      "text/plain": [
       "((16, 41), (2, 4))"
      ]
     },
     "execution_count": 22,
     "metadata": {},
     "output_type": "execute_result"
    }
   ],
   "source": [
    "lemma_tr.shape, attr_tr.shape"
   ]
  },
  {
   "cell_type": "code",
   "execution_count": 19,
   "id": "36da4c19-f52d-41ba-96f0-f2af8923cfa2",
   "metadata": {},
   "outputs": [
    {
     "data": {
      "text/plain": [
       "14"
      ]
     },
     "execution_count": 19,
     "metadata": {},
     "output_type": "execute_result"
    }
   ],
   "source": []
  },
  {
   "cell_type": "code",
   "execution_count": 20,
   "id": "a081559c-5ab7-43f7-8d5c-d58a5337f739",
   "metadata": {},
   "outputs": [],
   "source": [
    "y_train = []\n",
    "\n",
    "\n",
    "\n",
    "# for form in forms:\n",
    "#     form_tr = enc_lemmas.transform(form).toarray()\n",
    "    \n",
    "#     form_tr = compelete_array(form_tr, 18)\n",
    "    \n",
    "#     y_train.append(form_tr)"
   ]
  },
  {
   "cell_type": "markdown",
   "id": "cc61fca1-1148-4455-8837-fd0d5a8763b5",
   "metadata": {},
   "source": [
    "### **References** \n",
    "@article{vylomova2020sigmorphon, title={SIGMORPHON 2020 Shared Task 0: Typologically Diverse Morphological Inflection}, author={Vylomova, Ekaterina and White, Jennifer and Salesky, Elizabeth and Mielke, Sabrina J and Wu, Shijie and Ponti, Edoardo and Maudslay, Rowan Hall and Zmigrod, Ran and Valvoda, Josef and Toldova, Svetlana and others}, journal={SIGMORPHON 2020}, pages={1}, year={2020} }"
   ]
  },
  {
   "cell_type": "markdown",
   "id": "e60003da-2427-461a-96de-870555fa362e",
   "metadata": {},
   "source": [
    "---\n",
    "<p style=\"text-align: center;\">Copyright © 2021 Omar Ikne & Zakaria Boulkhir</p>"
   ]
  }
 ],
 "metadata": {
  "kernelspec": {
   "display_name": "Python 3",
   "language": "python",
   "name": "python3"
  },
  "language_info": {
   "codemirror_mode": {
    "name": "ipython",
    "version": 3
   },
   "file_extension": ".py",
   "mimetype": "text/x-python",
   "name": "python",
   "nbconvert_exporter": "python",
   "pygments_lexer": "ipython3",
   "version": "3.8.8"
  }
 },
 "nbformat": 4,
 "nbformat_minor": 5
}
