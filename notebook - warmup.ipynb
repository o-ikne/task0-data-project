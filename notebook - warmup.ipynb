{
 "cells": [
  {
   "cell_type": "markdown",
   "id": "45f41fdc-8c69-4448-9ad8-04c1874e1725",
   "metadata": {},
   "source": [
    "---\n",
    "### **<p style=\"text-align: center; text-decoration: underline;\">Natural Language Processing</p>**\n",
    "# **<p style=\"text-align: center;\">Practical: A bit of Morphological Warm up</p>**\n",
    "---\n",
    "\n",
    "> Realized by: *Zakaria Boulkhir* & *Omar Iken*.\n",
    "\n",
    "> Master 2, Data Science, Lille University.\n",
    "\n",
    "---\n",
    "\n",
    "### ■ __Overview__\n",
    "The objective of this part is to write down a very simple system that predict morphological attributes. To do so, we will use the data available [here](https://github.com/sigmorphon2020/task0-data). Then, we will pick a language we do not speak, for instance *Swahili (swa)*, and we explore the data.\n",
    "\n",
    "### ■ **<a name=\"content\">Contents</a>**\n",
    "\n",
    "- [1. Dataset](#section1)\n",
    "\n",
    "- [2. Simple baseline](#section2)\n",
    "\n",
    "- [3. Prefix-based approach](#section3)\n",
    "\n",
    "\n",
    "### ■ **Libraries**"
   ]
  },
  {
   "cell_type": "code",
   "execution_count": 1,
   "id": "be7a0775-1e53-4c08-bf31-bc8e23cdd395",
   "metadata": {},
   "outputs": [],
   "source": [
    "## numpy to handle arrays & matices\n",
    "import numpy as np\n",
    "\n",
    "## matplotlib & Seaborn to plot figures\n",
    "import matplotlib.pyplot as plt\n",
    "import seaborn as sns\n",
    "\n",
    "## pandas to handle dataframes\n",
    "import pandas as pd\n",
    "from scipy import stats\n",
    "from tqdm import tqdm\n",
    "import codecs\n",
    "import os\n",
    "from utils.utils import *\n",
    "import unidecode"
   ]
  },
  {
   "cell_type": "code",
   "execution_count": 2,
   "id": "e89771db-6da9-4372-a65d-c762f0c13f4a",
   "metadata": {},
   "outputs": [
    {
     "name": "stdout",
     "output_type": "stream",
     "text": [
      "numpy version : 1.20.1\n",
      "pandas version: 1.2.4\n"
     ]
    }
   ],
   "source": [
    "#-----------< Setting >------------#\n",
    "## set plots text font size & style\n",
    "sns.set(font_scale=1.2, style='whitegrid')\n",
    "plt.rcParams['figure.figsize'] = (12, 8)\n",
    "\n",
    "print(f'numpy version : {np.__version__}')\n",
    "print(f'pandas version: {pd.__version__}')"
   ]
  },
  {
   "cell_type": "markdown",
   "id": "7bfeed2f-02e6-492e-9986-4124a0a62325",
   "metadata": {},
   "source": [
    "### ■ **<a name=\"section1\">1. Dataset</a>** [(&#8593;)](#content)\n",
    "\n",
    "\n",
    "#### **1.1. Load data**\n",
    "Let's start by laoding our dataset, and then pick a random language from the set of languages. For instance, the *swahli (swa)* language. "
   ]
  },
  {
   "cell_type": "code",
   "execution_count": 3,
   "id": "3eef3190-ac67-40a2-9675-c5655e3d613f",
   "metadata": {},
   "outputs": [
    {
     "name": "stdout",
     "output_type": "stream",
     "text": [
      "Number of training samples: 3374\n",
      "Number of testing samples : 910\n"
     ]
    },
    {
     "data": {
      "text/html": [
       "<div>\n",
       "<style scoped>\n",
       "    .dataframe tbody tr th:only-of-type {\n",
       "        vertical-align: middle;\n",
       "    }\n",
       "\n",
       "    .dataframe tbody tr th {\n",
       "        vertical-align: top;\n",
       "    }\n",
       "\n",
       "    .dataframe thead th {\n",
       "        text-align: right;\n",
       "    }\n",
       "</style>\n",
       "<table border=\"1\" class=\"dataframe\">\n",
       "  <thead>\n",
       "    <tr style=\"text-align: right;\">\n",
       "      <th></th>\n",
       "      <th>lemma</th>\n",
       "      <th>form</th>\n",
       "      <th>attributes</th>\n",
       "    </tr>\n",
       "  </thead>\n",
       "  <tbody>\n",
       "    <tr>\n",
       "      <th>0</th>\n",
       "      <td>piga</td>\n",
       "      <td>amepiga</td>\n",
       "      <td>V;PRF;FIN;IND;SG;3;PST</td>\n",
       "    </tr>\n",
       "    <tr>\n",
       "      <th>1</th>\n",
       "      <td>kamilisha</td>\n",
       "      <td>wangekamilisha</td>\n",
       "      <td>V;FIN;COND;PL;3;PRS</td>\n",
       "    </tr>\n",
       "    <tr>\n",
       "      <th>2</th>\n",
       "      <td>fuata</td>\n",
       "      <td>walifuata</td>\n",
       "      <td>V;FIN;IND;PL;3;PST</td>\n",
       "    </tr>\n",
       "    <tr>\n",
       "      <th>3</th>\n",
       "      <td>tengeneza</td>\n",
       "      <td>nitatengeneza</td>\n",
       "      <td>V;FIN;IND;SG;1;FUT</td>\n",
       "    </tr>\n",
       "    <tr>\n",
       "      <th>4</th>\n",
       "      <td>uwa</td>\n",
       "      <td>anauwa</td>\n",
       "      <td>V;DEF;FIN;IND;SG;3;PRS</td>\n",
       "    </tr>\n",
       "  </tbody>\n",
       "</table>\n",
       "</div>"
      ],
      "text/plain": [
       "       lemma            form              attributes\n",
       "0       piga         amepiga  V;PRF;FIN;IND;SG;3;PST\n",
       "1  kamilisha  wangekamilisha     V;FIN;COND;PL;3;PRS\n",
       "2      fuata       walifuata      V;FIN;IND;PL;3;PST\n",
       "3  tengeneza   nitatengeneza      V;FIN;IND;SG;1;FUT\n",
       "4        uwa          anauwa  V;DEF;FIN;IND;SG;3;PRS"
      ]
     },
     "execution_count": 3,
     "metadata": {},
     "output_type": "execute_result"
    }
   ],
   "source": [
    "## file path\n",
    "train_file = 'data/DEVELOPMENT-LANGUAGES/niger-congo/swa.trn'\n",
    "test_file = 'data/GOLD-TEST/swa.tst'\n",
    "\n",
    "## dataframe\n",
    "df_train = read_file(train_file)\n",
    "df_test = read_file(test_file)\n",
    "\n",
    "## number of training & testing samples\n",
    "n_train = df_train.shape[0]\n",
    "n_test = df_test.shape[0]\n",
    "print(f'Number of training samples: {n_train}')\n",
    "print(f'Number of testing samples : {n_test}')\n",
    "\n",
    "## dispaly some samples\n",
    "df_train.head()"
   ]
  },
  {
   "cell_type": "markdown",
   "id": "26278ef5-5e5d-47ef-a130-30c737de290b",
   "metadata": {},
   "source": [
    "#### **1.2. Unzip attributes:** \n",
    "Now, we will extract the individual attributes for each form. For instance, the attributes for *amepiga* are *{V;PRF;FIN;IND;SG;3;PST}*, so unziping means creating a new sample for each of the morphological attributes. "
   ]
  },
  {
   "cell_type": "code",
   "execution_count": 4,
   "id": "e91dee13-b793-4d94-9dc7-0dcc8298fe84",
   "metadata": {},
   "outputs": [
    {
     "data": {
      "text/html": [
       "<div>\n",
       "<style scoped>\n",
       "    .dataframe tbody tr th:only-of-type {\n",
       "        vertical-align: middle;\n",
       "    }\n",
       "\n",
       "    .dataframe tbody tr th {\n",
       "        vertical-align: top;\n",
       "    }\n",
       "\n",
       "    .dataframe thead th {\n",
       "        text-align: right;\n",
       "    }\n",
       "</style>\n",
       "<table border=\"1\" class=\"dataframe\">\n",
       "  <thead>\n",
       "    <tr style=\"text-align: right;\">\n",
       "      <th></th>\n",
       "      <th>lemma</th>\n",
       "      <th>form</th>\n",
       "      <th>attributes</th>\n",
       "    </tr>\n",
       "  </thead>\n",
       "  <tbody>\n",
       "    <tr>\n",
       "      <th>0</th>\n",
       "      <td>piga</td>\n",
       "      <td>amepiga</td>\n",
       "      <td>V</td>\n",
       "    </tr>\n",
       "    <tr>\n",
       "      <th>1</th>\n",
       "      <td>piga</td>\n",
       "      <td>amepiga</td>\n",
       "      <td>PRF</td>\n",
       "    </tr>\n",
       "    <tr>\n",
       "      <th>2</th>\n",
       "      <td>piga</td>\n",
       "      <td>amepiga</td>\n",
       "      <td>FIN</td>\n",
       "    </tr>\n",
       "    <tr>\n",
       "      <th>3</th>\n",
       "      <td>piga</td>\n",
       "      <td>amepiga</td>\n",
       "      <td>IND</td>\n",
       "    </tr>\n",
       "    <tr>\n",
       "      <th>4</th>\n",
       "      <td>piga</td>\n",
       "      <td>amepiga</td>\n",
       "      <td>SG</td>\n",
       "    </tr>\n",
       "  </tbody>\n",
       "</table>\n",
       "</div>"
      ],
      "text/plain": [
       "  lemma     form attributes\n",
       "0  piga  amepiga          V\n",
       "1  piga  amepiga        PRF\n",
       "2  piga  amepiga        FIN\n",
       "3  piga  amepiga        IND\n",
       "4  piga  amepiga         SG"
      ]
     },
     "execution_count": 4,
     "metadata": {},
     "output_type": "execute_result"
    }
   ],
   "source": [
    "def unzip_attrs(df):\n",
    "    \"\"\"\"\"\"\n",
    "    ## unzip attributes\n",
    "    df_unzip = []\n",
    "\n",
    "    for idx in df.index:\n",
    "        lemma, form, attrs = df.iloc[idx].to_list()\n",
    "\n",
    "        for attr in attrs.split(';'):\n",
    "            df_unzip.append([lemma, form, attr])\n",
    "        \n",
    "    ## create a new dataframe  \n",
    "    df_unzip = pd.DataFrame(df_unzip, columns=df.columns)\n",
    "        \n",
    "    return df_unzip\n",
    "\n",
    "## unzip attributes\n",
    "df_train_unzip = unzip_attrs(df_train)\n",
    "df_train_unzip.head()"
   ]
  },
  {
   "cell_type": "markdown",
   "id": "ff459d10-3dc1-4848-a07b-66380bdade20",
   "metadata": {},
   "source": [
    "#### **1.3. Data exploration**\n",
    "Let's do a bit of data exploration: count the number of characters, n-grams, etc."
   ]
  },
  {
   "cell_type": "markdown",
   "id": "f5f38e05-5936-4c53-b126-af5117890a8f",
   "metadata": {},
   "source": [
    "##### **1.3.1. Unique Characters:**\n",
    "Get the unique the characters of the language."
   ]
  },
  {
   "cell_type": "code",
   "execution_count": 5,
   "id": "f6fa0fe2-ad89-4460-9e22-7364e5ffc5d1",
   "metadata": {},
   "outputs": [
    {
     "name": "stdout",
     "output_type": "stream",
     "text": [
      "> Number of unique characters: 24\n",
      "> Characters: a, b, c, d, e, f, g, h, i, j, k, l, m, n, o, p, r, s, t, u, v, w, y, z\n"
     ]
    }
   ],
   "source": [
    "## get the number of unique characters\n",
    "text = ''.join(df_train[['lemma', 'form']].to_numpy().flatten())\n",
    "\n",
    "## get (number of) unique characters\n",
    "unique_chars = sorted(set(text))\n",
    "n_chars = len(unique_chars)\n",
    "\n",
    "print(f\"> Number of unique characters: {n_chars}\\n> Characters: {', '.join(unique_chars)}\")"
   ]
  },
  {
   "cell_type": "markdown",
   "id": "f1cb2368-1c9f-48e4-a921-eee51aca90f5",
   "metadata": {},
   "source": [
    "##### **1.3.2. Morphological attributes:** \n",
    "histogram of different attributes, this will allow us to see which one is dominating."
   ]
  },
  {
   "cell_type": "code",
   "execution_count": 6,
   "id": "d73fca13-83fd-40a8-8f58-da71b84270c9",
   "metadata": {},
   "outputs": [
    {
     "name": "stdout",
     "output_type": "stream",
     "text": [
      "> Number of unique morphological attributes: 16\n",
      "> Morphological attributes: 1, 2, 3, COND, DEF, FIN, FUT, HAB, IND, INDF, PL, PRF, PRS, PST, SG, V\n"
     ]
    }
   ],
   "source": [
    "## get unique morphological attributes\n",
    "morph_attrs = ';'.join(df_train['attributes'].to_list()).split(';')\n",
    "morph_attrs = np.asarray(morph_attrs)\n",
    "unique_attrs = sorted(set(morph_attrs)) ## sort to keep same order\n",
    "n_attrs = len(unique_attrs)\n",
    "\n",
    "print(f\"> Number of unique morphological attributes: {n_attrs}\\n> Morphological attributes: {', '.join(unique_attrs)}\")"
   ]
  },
  {
   "cell_type": "code",
   "execution_count": 7,
   "id": "ea890535-16d1-4d7b-8c21-054222fc24b0",
   "metadata": {},
   "outputs": [
    {
     "data": {
      "image/png": "[encoded data removed]",
      "text/plain": [
       "<Figure size 1008x288 with 1 Axes>"
      ]
     },
     "metadata": {},
     "output_type": "display_data"
    }
   ],
   "source": [
    "## plot attributes count\n",
    "fig, ax = plt.subplots(figsize=(14, 4))\n",
    "df_train_unzip['attributes'].value_counts().plot.bar(ax=ax)\n",
    "ax.set_xlabel('morphological attributes')\n",
    "ax.set_ylabel('counts')\n",
    "plt.show()"
   ]
  },
  {
   "cell_type": "markdown",
   "id": "9f1afbcb-9d82-423a-8fb9-f2ed993cc303",
   "metadata": {},
   "source": [
    "##### **Train & Test sets**"
   ]
  },
  {
   "cell_type": "code",
   "execution_count": 8,
   "id": "967d27d3-4f07-4780-b934-99cdba0f37d3",
   "metadata": {},
   "outputs": [],
   "source": [
    "## get features & labels for training data\n",
    "X_train, y_train = df_train_unzip[['lemma', 'form']].to_numpy(), df_train_unzip['attributes'].to_numpy()\n",
    "X_test, y_test = df_train_unzip[['lemma', 'form']].to_numpy(), df_test['attributes'].to_numpy()"
   ]
  },
  {
   "cell_type": "markdown",
   "id": "64aacb58-2432-464e-9d6b-0425feb317b2",
   "metadata": {},
   "source": [
    "### ■ **<a name=\"section2\">2. Simple baseline</a>** [(&#8593;)](#content)\n",
    "Now we will write a super simple baseline using 5 rules to predict morphological attributes. This baseline consists of predicting the morphological attribute of a given form and lemma using one of the five rules:\n",
    "- *Mode*: predict returns the mode of the training labels.\n",
    "- *prior*: predict returns the prior element of the training labels.\n",
    "- *stratified* : predict returns an attribute of the training labels in a uniform way.\n",
    "- *uniform*: predict returns an attribute in a uniform way from unique attributes.\n",
    "- *constant*: predict returns a constant attribute from the learning labels.\n",
    "\n",
    "#### **2.1. Simple baseline to predict morphological attributes**\n"
   ]
  },
  {
   "cell_type": "code",
   "execution_count": 9,
   "id": "1e5c0e81-2918-4462-a309-dea76166711c",
   "metadata": {},
   "outputs": [],
   "source": [
    "class SimpleBaseline:\n",
    "    \n",
    "    \"\"\"Simple Baseline to predict the morphological attribute of a given lemma and form\n",
    "    \n",
    "    Parameters\n",
    "    ----------\n",
    "    rule: str,\n",
    "        The rule to use to predict the attribute.\n",
    "        \n",
    "    Attributes\n",
    "    ----------\n",
    "    rules: set,\n",
    "        The set of available rules.\n",
    "    \"\"\"\n",
    "    \n",
    "    def __init__(self, rule='mode'):\n",
    "        self.rule = rule\n",
    "        self.rules = {\"mode\", \"prior\", \"stratified\", \"uniform\", \"constant\"}\n",
    "        \n",
    "    def fit(self, X, y):\n",
    "        \"\"\"fit the model\"\"\"\n",
    "        self.y = y\n",
    "        \n",
    "        return self\n",
    "        \n",
    "    def predict(self, x):\n",
    "        \"\"\"predict the attribute from x\"\"\"\n",
    "        \n",
    "        if self.rule not in self.rules:\n",
    "            raise Exception(f'rule should be in {self.rules}')\n",
    "            \n",
    "        if self.rule in ['mode', 'prior']:\n",
    "            y = stats.mode(self.y)[0][0]\n",
    "            \n",
    "        elif self.rule == 'uniform':\n",
    "            y = np.random.choice(np.unique(self.y))\n",
    "            \n",
    "        elif self.rule == 'stratified':\n",
    "            size = np.random.choice(len(set(self.y)))\n",
    "            y = np.random.choice(self.y, size=size)\n",
    "            \n",
    "        elif self.rule == 'constant':\n",
    "            y = self.y[0]\n",
    "        \n",
    "        return y\n",
    "    \n",
    "    def __repr__(self):\n",
    "        return 'SimpleBaseline'"
   ]
  },
  {
   "cell_type": "code",
   "execution_count": 10,
   "id": "f95a4f72-ecc6-4391-b533-7e27c186b7a1",
   "metadata": {},
   "outputs": [
    {
     "data": {
      "text/plain": [
       "array(['SG', 'IND', 'COND', 'V', 'V', 'IND', 'V', '1', 'IND', '1', 'COND',\n",
       "       'PST', 'IND'], dtype=object)"
      ]
     },
     "execution_count": 10,
     "metadata": {},
     "output_type": "execute_result"
    }
   ],
   "source": [
    "## create a simple baseline\n",
    "baseline = SimpleBaseline(rule='stratified')\n",
    "\n",
    "## fir the baseline model\n",
    "baseline.fit(X_train, y_train)\n",
    "\n",
    "## test the baseline\n",
    "baseline.predict(['piga', 'amepiga'])"
   ]
  },
  {
   "cell_type": "markdown",
   "id": "1ffdc732-db67-4566-9b6b-0a81c3576c2c",
   "metadata": {},
   "source": [
    "### ■ **<a name=\"section3\">3. Prefix-based approach</a>** [(&#8593;)](#content)\n",
    "\n",
    "This new very simple approach relies on extracting the prefix of form and lemma and use it to make preidctions. \n",
    "#### **3.1. Overview** \n",
    "Extract the prefix of each lemma from each form will allow us to see which prefix are most correlated with different attributes. "
   ]
  },
  {
   "cell_type": "code",
   "execution_count": 13,
   "id": "f56a6964-c359-450a-9081-23a84a7951ae",
   "metadata": {},
   "outputs": [],
   "source": [
    "def get_prefix(lemma, form):\n",
    "    \"\"\"returns the prefix from the given lemma & form\"\"\"\n",
    "    \n",
    "    if lemma in form:\n",
    "        return form.replace(lemma, '')\n",
    "    return ''"
   ]
  },
  {
   "cell_type": "code",
   "execution_count": 14,
   "id": "37559021-dc97-48e2-93fb-d205681d7fc5",
   "metadata": {},
   "outputs": [
    {
     "data": {
      "text/html": [
       "<div>\n",
       "<style scoped>\n",
       "    .dataframe tbody tr th:only-of-type {\n",
       "        vertical-align: middle;\n",
       "    }\n",
       "\n",
       "    .dataframe tbody tr th {\n",
       "        vertical-align: top;\n",
       "    }\n",
       "\n",
       "    .dataframe thead th {\n",
       "        text-align: right;\n",
       "    }\n",
       "</style>\n",
       "<table border=\"1\" class=\"dataframe\">\n",
       "  <thead>\n",
       "    <tr style=\"text-align: right;\">\n",
       "      <th></th>\n",
       "      <th>lemma</th>\n",
       "      <th>form</th>\n",
       "      <th>attributes</th>\n",
       "      <th>prefix</th>\n",
       "    </tr>\n",
       "  </thead>\n",
       "  <tbody>\n",
       "    <tr>\n",
       "      <th>0</th>\n",
       "      <td>piga</td>\n",
       "      <td>amepiga</td>\n",
       "      <td>V</td>\n",
       "      <td>ame</td>\n",
       "    </tr>\n",
       "    <tr>\n",
       "      <th>1</th>\n",
       "      <td>piga</td>\n",
       "      <td>amepiga</td>\n",
       "      <td>PRF</td>\n",
       "      <td>ame</td>\n",
       "    </tr>\n",
       "    <tr>\n",
       "      <th>2</th>\n",
       "      <td>piga</td>\n",
       "      <td>amepiga</td>\n",
       "      <td>FIN</td>\n",
       "      <td>ame</td>\n",
       "    </tr>\n",
       "    <tr>\n",
       "      <th>3</th>\n",
       "      <td>piga</td>\n",
       "      <td>amepiga</td>\n",
       "      <td>IND</td>\n",
       "      <td>ame</td>\n",
       "    </tr>\n",
       "    <tr>\n",
       "      <th>4</th>\n",
       "      <td>piga</td>\n",
       "      <td>amepiga</td>\n",
       "      <td>SG</td>\n",
       "      <td>ame</td>\n",
       "    </tr>\n",
       "  </tbody>\n",
       "</table>\n",
       "</div>"
      ],
      "text/plain": [
       "  lemma     form attributes prefix\n",
       "0  piga  amepiga          V    ame\n",
       "1  piga  amepiga        PRF    ame\n",
       "2  piga  amepiga        FIN    ame\n",
       "3  piga  amepiga        IND    ame\n",
       "4  piga  amepiga         SG    ame"
      ]
     },
     "execution_count": 14,
     "metadata": {},
     "output_type": "execute_result"
    }
   ],
   "source": [
    "## add prefix column to dataframe\n",
    "df_train_unzip['prefix'] = df_train_unzip.apply(lambda x: get_prefix(x.lemma, x.form), axis=1)\n",
    "df_train_unzip.head()"
   ]
  },
  {
   "cell_type": "code",
   "execution_count": 15,
   "id": "35a5dc8d-df1d-4f72-ab8c-263efc7d2e83",
   "metadata": {},
   "outputs": [
    {
     "data": {
      "image/png": "[encoded data removed]",
      "text/plain": [
       "<Figure size 864x576 with 2 Axes>"
      ]
     },
     "metadata": {},
     "output_type": "display_data"
    }
   ],
   "source": [
    "## count number of prefix per attributes\n",
    "corr = pd.crosstab(index=df_train_unzip['prefix'], columns=df_train_unzip['attributes'])\n",
    "\n",
    "## display\n",
    "fig, ax = plt.subplots()\n",
    "sns.heatmap(corr, ax=ax, cmap='Blues')\n",
    "plt.show()"
   ]
  },
  {
   "cell_type": "markdown",
   "id": "f614d044-764d-417a-9f3f-d7528529b77b",
   "metadata": {},
   "source": [
    ">**Idea:** one can use this correlation matrix to predict the mophological attributes of a given form & lemma"
   ]
  },
  {
   "cell_type": "markdown",
   "id": "9e0cedc9-e61f-4f9a-ad3c-535350b0d57a",
   "metadata": {},
   "source": [
    "#### **3.2. Prefix-based model**\n",
    "One can predict using the prefix rule given above, for instance, get the prefix from the given form and lemma, and return the attribute which is most correlated with the prefix."
   ]
  },
  {
   "cell_type": "code",
   "execution_count": 16,
   "id": "54c35f53-2be2-47a3-8f7e-e44ffc13e39a",
   "metadata": {},
   "outputs": [],
   "source": [
    "class PrefixRule:\n",
    "    \"\"\"PrefixRule\"\"\"\n",
    "    \n",
    "    def __init__(self):\n",
    "        ...\n",
    "        \n",
    "    def fit(self, X, y):\n",
    "        \"\"\"to fit the model\"\"\"\n",
    "        ## get prefixes\n",
    "        prefixes = [get_prefix(lemma, form) for lemma, form in X]\n",
    "        ## unique prefixes\n",
    "        self.prefixes = set(prefixes)\n",
    "        ## compute correlation\n",
    "        df = pd.DataFrame([prefixes, y], index=['prefix', 'attribute']).T\n",
    "        self.corr = pd.crosstab(df['prefix'], df['attribute'])\n",
    "        \n",
    "        return self\n",
    "        \n",
    "    def predict(self, x):\n",
    "        ## get prefix\n",
    "        lemma, form = x\n",
    "        prefix = get_prefix(lemma, form)\n",
    "        \n",
    "        ## check that prefix is included in the list of prefix\n",
    "        if prefix not in self.prefixes:\n",
    "            raise Exception(f'prefix should be in {self.prefixes}')\n",
    "            \n",
    "        ## get attributes which are most correlated with prefix\n",
    "        max_val = self.corr.loc[prefix].max()\n",
    "        pred_attrs = self.corr.loc[prefix][self.corr.loc[prefix] == max_val].index.to_numpy()\n",
    "        \n",
    "        return pred_attrs\n",
    "    \n",
    "    def __repr__(self):\n",
    "        return 'PrefixRule'"
   ]
  },
  {
   "cell_type": "code",
   "execution_count": 17,
   "id": "37a99f50-9f48-404f-b96c-fd26f79ff287",
   "metadata": {},
   "outputs": [
    {
     "data": {
      "text/plain": [
       "PrefixRule"
      ]
     },
     "execution_count": 17,
     "metadata": {},
     "output_type": "execute_result"
    }
   ],
   "source": [
    "## create & fit the model\n",
    "prefix_rule = PrefixRule()\n",
    "prefix_rule.fit(X_train, y_train)"
   ]
  },
  {
   "cell_type": "code",
   "execution_count": 18,
   "id": "db397adf-b855-473c-b1c0-177c4e99891b",
   "metadata": {},
   "outputs": [
    {
     "name": "stdout",
     "output_type": "stream",
     "text": [
      "> The predicted attributes for (pea, anapea):\t 3, DEF, FIN, IND, PRS, SG, V\n",
      "> The true attributes for (pea, anapea)\t:\t V, DEF, FIN, IND, SG, 3, PRS\n"
     ]
    }
   ],
   "source": [
    "## pick random lemma & form\n",
    "lemma, form = X_train[np.random.randint(len(X_train))]\n",
    "\n",
    "## make predictions\n",
    "pred_attrs = prefix_rule.predict([lemma, form])\n",
    "\n",
    "print(f\"> The predicted attributes for ({lemma}, {form}):\\t {', '.join(pred_attrs)}\")\n",
    "\n",
    "## get true attributes\n",
    "true_attrs = df_train_unzip[(df_train_unzip['lemma'] == lemma) & (df_train_unzip['form'] == form)]['attributes']\n",
    "print(f\"> The true attributes for ({lemma}, {form})\\t:\\t {', '.join(true_attrs)}\")"
   ]
  },
  {
   "cell_type": "markdown",
   "id": "b21a8f54-dab1-4f38-8b49-fdf546304e8e",
   "metadata": {},
   "source": [
    ">**Comments:** \n",
    ">- This new model is more interesting because it can predict more than one attribute for a given lemma and form.\n",
    ">- But one of its main drawbacks is that it only takes into account prefixes that are in the training set."
   ]
  },
  {
   "cell_type": "markdown",
   "id": "cc61fca1-1148-4455-8837-fd0d5a8763b5",
   "metadata": {},
   "source": [
    "### **References** \n",
    "@article{vylomova2020sigmorphon, title={SIGMORPHON 2020 Shared Task 0: Typologically Diverse Morphological Inflection}, author={Vylomova, Ekaterina and White, Jennifer and Salesky, Elizabeth and Mielke, Sabrina J and Wu, Shijie and Ponti, Edoardo and Maudslay, Rowan Hall and Zmigrod, Ran and Valvoda, Josef and Toldova, Svetlana and others}, journal={SIGMORPHON 2020}, pages={1}, year={2020} }"
   ]
  },
  {
   "cell_type": "markdown",
   "id": "e60003da-2427-461a-96de-870555fa362e",
   "metadata": {},
   "source": [
    "---\n",
    "<p style=\"text-align: center;\">Copyright © 2021 Omar Ikne & Zakaria Boulkhir</p>"
   ]
  }
 ],
 "metadata": {
  "kernelspec": {
   "display_name": "Python 3",
   "language": "python",
   "name": "python3"
  },
  "language_info": {
   "codemirror_mode": {
    "name": "ipython",
    "version": 3
   },
   "file_extension": ".py",
   "mimetype": "text/x-python",
   "name": "python",
   "nbconvert_exporter": "python",
   "pygments_lexer": "ipython3",
   "version": "3.8.8"
  }
 },
 "nbformat": 4,
 "nbformat_minor": 5
}
